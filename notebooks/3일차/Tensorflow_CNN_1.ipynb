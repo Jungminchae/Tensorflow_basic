{
  "nbformat": 4,
  "nbformat_minor": 0,
  "metadata": {
    "colab": {
      "name": "Tensorflow_CNN_1.ipynb",
      "provenance": []
    },
    "kernelspec": {
      "name": "python3",
      "display_name": "Python 3"
    },
    "language_info": {
      "name": "python"
    },
    "accelerator": "GPU"
  },
  "cells": [
    {
      "cell_type": "code",
      "metadata": {
        "id": "EN9F_x7YGsCT"
      },
      "source": [
        "import tensorflow as tf \n",
        "from tensorflow import keras"
      ],
      "execution_count": null,
      "outputs": []
    },
    {
      "cell_type": "code",
      "metadata": {
        "id": "BAfXLBRxGyoA"
      },
      "source": [
        "conv_1 = keras.layers.Conv2D(filters=10,kernel_size=3,strides=1, padding=\"same\",input_shape=(32,32,3))"
      ],
      "execution_count": null,
      "outputs": []
    },
    {
      "cell_type": "code",
      "metadata": {
        "id": "IpbsNEPZHfhe"
      },
      "source": [
        "# model\n",
        "model = keras.Sequential([\n",
        "    conv_1\n",
        "])"
      ],
      "execution_count": null,
      "outputs": []
    },
    {
      "cell_type": "code",
      "metadata": {
        "colab": {
          "base_uri": "https://localhost:8080/"
        },
        "id": "fOHK61b7HlC8",
        "outputId": "73e992b1-8064-413a-8166-a847ee20cd1c"
      },
      "source": [
        "model.summary()"
      ],
      "execution_count": null,
      "outputs": [
        {
          "output_type": "stream",
          "text": [
            "Model: \"sequential_1\"\n",
            "_________________________________________________________________\n",
            "Layer (type)                 Output Shape              Param #   \n",
            "=================================================================\n",
            "conv2d_1 (Conv2D)            (None, 32, 32, 10)        280       \n",
            "=================================================================\n",
            "Total params: 280\n",
            "Trainable params: 280\n",
            "Non-trainable params: 0\n",
            "_________________________________________________________________\n"
          ],
          "name": "stdout"
        }
      ]
    },
    {
      "cell_type": "code",
      "metadata": {
        "id": "8RN4CggBHq1B"
      },
      "source": [
        "# params \n",
        "# (channel 3 x filter 3 x 3 + bias) x filter number 10 = 280"
      ],
      "execution_count": null,
      "outputs": []
    },
    {
      "cell_type": "code",
      "metadata": {
        "id": "ZWs6GFZKIXYM"
      },
      "source": [
        "# output shape\n",
        "# (input 32 - filter 3 + 2*padding 1) / stride 1 + 1 = 32\n",
        "# same으로 할 경우 same으로 나올 수 있도록 padding 값 조절 "
      ],
      "execution_count": null,
      "outputs": []
    },
    {
      "cell_type": "code",
      "metadata": {
        "id": "stCovNejJG4e"
      },
      "source": [
        "conv_2 = keras.layers.Conv2D(filters=10,kernel_size=3,strides=1, padding=\"valid\")"
      ],
      "execution_count": null,
      "outputs": []
    },
    {
      "cell_type": "code",
      "metadata": {
        "id": "2RLxkCXcJcNy"
      },
      "source": [
        "model_2 = keras.Sequential([\n",
        "    conv_1,\n",
        "    conv_2\n",
        "])"
      ],
      "execution_count": null,
      "outputs": []
    },
    {
      "cell_type": "code",
      "metadata": {
        "colab": {
          "base_uri": "https://localhost:8080/"
        },
        "id": "JREY-vN8Jg63",
        "outputId": "d13e495c-8aa0-4942-da37-663ba472fec7"
      },
      "source": [
        "model_2.summary()"
      ],
      "execution_count": null,
      "outputs": [
        {
          "output_type": "stream",
          "text": [
            "Model: \"sequential_3\"\n",
            "_________________________________________________________________\n",
            "Layer (type)                 Output Shape              Param #   \n",
            "=================================================================\n",
            "conv2d_1 (Conv2D)            (None, 32, 32, 10)        280       \n",
            "_________________________________________________________________\n",
            "conv2d_3 (Conv2D)            (None, 30, 30, 10)        910       \n",
            "=================================================================\n",
            "Total params: 1,190\n",
            "Trainable params: 1,190\n",
            "Non-trainable params: 0\n",
            "_________________________________________________________________\n"
          ],
          "name": "stdout"
        }
      ]
    },
    {
      "cell_type": "code",
      "metadata": {
        "id": "1lBCSBuOJi4w"
      },
      "source": [
        "# pooling 추가\n",
        "max_pooling = keras.layers.MaxPooling2D()"
      ],
      "execution_count": null,
      "outputs": []
    },
    {
      "cell_type": "code",
      "metadata": {
        "id": "HiVNBxsWPsA7"
      },
      "source": [
        "model_3 = keras.Sequential([\n",
        "        conv_1,\n",
        "        max_pooling,\n",
        "        conv_2,\n",
        "\n",
        "])"
      ],
      "execution_count": null,
      "outputs": []
    },
    {
      "cell_type": "code",
      "metadata": {
        "colab": {
          "base_uri": "https://localhost:8080/"
        },
        "id": "IZWHe2gkP1b3",
        "outputId": "ea6de4c2-a1c9-4885-fab5-14fc917a09be"
      },
      "source": [
        "model_3.summary()"
      ],
      "execution_count": null,
      "outputs": [
        {
          "output_type": "stream",
          "text": [
            "Model: \"sequential_4\"\n",
            "_________________________________________________________________\n",
            "Layer (type)                 Output Shape              Param #   \n",
            "=================================================================\n",
            "conv2d_1 (Conv2D)            (None, 32, 32, 10)        280       \n",
            "_________________________________________________________________\n",
            "max_pooling2d (MaxPooling2D) (None, 16, 16, 10)        0         \n",
            "_________________________________________________________________\n",
            "conv2d_3 (Conv2D)            multiple                  910       \n",
            "=================================================================\n",
            "Total params: 1,190\n",
            "Trainable params: 1,190\n",
            "Non-trainable params: 0\n",
            "_________________________________________________________________\n"
          ],
          "name": "stdout"
        }
      ]
    },
    {
      "cell_type": "code",
      "metadata": {
        "id": "saCyA2apP3Lz"
      },
      "source": [
        "# FCL\n",
        "flatten = keras.layers.Flatten()\n",
        "dense_1 = keras.layers.Dense(32, activation=\"relu\")\n",
        "dense_2 = keras.layers.Dense(10, activation=\"softmax\")"
      ],
      "execution_count": null,
      "outputs": []
    },
    {
      "cell_type": "code",
      "metadata": {
        "id": "ko_UtrbxSWcD"
      },
      "source": [
        "model_4 = keras.Sequential([\n",
        "        conv_1,\n",
        "        max_pooling,\n",
        "        conv_2,\n",
        "        max_pooling,\n",
        "        flatten,\n",
        "        dense_1,\n",
        "        dense_2\n",
        "])"
      ],
      "execution_count": null,
      "outputs": []
    },
    {
      "cell_type": "code",
      "metadata": {
        "colab": {
          "base_uri": "https://localhost:8080/"
        },
        "id": "8liq6qlGSjp5",
        "outputId": "ffd5af9e-383e-40de-c823-c887b2a3bc94"
      },
      "source": [
        "model_4.summary()"
      ],
      "execution_count": null,
      "outputs": [
        {
          "output_type": "stream",
          "text": [
            "Model: \"sequential_5\"\n",
            "_________________________________________________________________\n",
            "Layer (type)                 Output Shape              Param #   \n",
            "=================================================================\n",
            "conv2d_1 (Conv2D)            (None, 32, 32, 10)        280       \n",
            "_________________________________________________________________\n",
            "max_pooling2d (MaxPooling2D) multiple                  0         \n",
            "_________________________________________________________________\n",
            "conv2d_3 (Conv2D)            multiple                  910       \n",
            "_________________________________________________________________\n",
            "flatten (Flatten)            (None, 490)               0         \n",
            "_________________________________________________________________\n",
            "dense (Dense)                (None, 32)                15712     \n",
            "_________________________________________________________________\n",
            "dense_1 (Dense)              (None, 10)                330       \n",
            "=================================================================\n",
            "Total params: 17,232\n",
            "Trainable params: 17,232\n",
            "Non-trainable params: 0\n",
            "_________________________________________________________________\n"
          ],
          "name": "stdout"
        }
      ]
    },
    {
      "cell_type": "code",
      "metadata": {
        "id": "le3zq9DuSlo_"
      },
      "source": [
        "# mnist 손글씨 인식하는 CNN 모델을 만들어 볼까요?"
      ],
      "execution_count": null,
      "outputs": []
    },
    {
      "cell_type": "code",
      "metadata": {
        "id": "sJNEH6xvJsKC"
      },
      "source": [
        "import numpy as np\n",
        "import tensorflow as tf \n",
        "from tensorflow import keras"
      ],
      "execution_count": null,
      "outputs": []
    },
    {
      "cell_type": "code",
      "metadata": {
        "colab": {
          "base_uri": "https://localhost:8080/"
        },
        "id": "fgMJQkpCJn3s",
        "outputId": "71d72a1e-49c2-4616-a0de-0eaa324a103b"
      },
      "source": [
        "# mnist data \n",
        "(x_train, y_train), (x_test, y_test) = keras.datasets.mnist.load_data()"
      ],
      "execution_count": null,
      "outputs": [
        {
          "output_type": "stream",
          "text": [
            "Downloading data from https://storage.googleapis.com/tensorflow/tf-keras-datasets/mnist.npz\n",
            "11493376/11490434 [==============================] - 0s 0us/step\n",
            "11501568/11490434 [==============================] - 0s 0us/step\n"
          ],
          "name": "stdout"
        }
      ]
    },
    {
      "cell_type": "code",
      "metadata": {
        "id": "u4FhNiCLJv6r"
      },
      "source": [
        "x_train = x_train / 255.\n",
        "x_test = x_test / 255."
      ],
      "execution_count": null,
      "outputs": []
    },
    {
      "cell_type": "code",
      "metadata": {
        "id": "Owxu26rBJzaw"
      },
      "source": [
        "# (개수, 가로, 세로, 채널)\n",
        "x_train = x_train[:,:,:,np.newaxis]\n",
        "x_test = x_test[:,:,:, np.newaxis]"
      ],
      "execution_count": null,
      "outputs": []
    },
    {
      "cell_type": "code",
      "metadata": {
        "id": "lzF2_vwsJ17c"
      },
      "source": [
        "model = keras.Sequential([\n",
        "     keras.layers.Conv2D(32, 3, 1, padding=\"same\" ,input_shape=(28,28,1), activation=\"relu\"),\n",
        "     keras.layers.Conv2D(64, 3, 1, padding=\"same\" ,activation=\"relu\"),\n",
        "     keras.layers.MaxPool2D(),\n",
        "     keras.layers.Flatten(),\n",
        "     keras.layers.Dense(64, activation=\"relu\"),\n",
        "     keras.layers.Dense(10, activation=\"softmax\")\n",
        "])"
      ],
      "execution_count": null,
      "outputs": []
    },
    {
      "cell_type": "code",
      "metadata": {
        "id": "y4-qEZdvKWtq"
      },
      "source": [
        "model.compile(\n",
        "    optimizer=\"adam\",\n",
        "    loss=\"sparse_categorical_crossentropy\",\n",
        "    metrics=[\"accuracy\"]\n",
        ")"
      ],
      "execution_count": null,
      "outputs": []
    },
    {
      "cell_type": "code",
      "metadata": {
        "id": "6vYxFvjUHwEs"
      },
      "source": [
        "model_checkpoint = keras.callbacks.ModelCheckpoint(\n",
        "    filepath=\"./mnist_model.h5\",\n",
        "    save_best_only=True\n",
        ")"
      ],
      "execution_count": null,
      "outputs": []
    },
    {
      "cell_type": "code",
      "metadata": {
        "colab": {
          "base_uri": "https://localhost:8080/"
        },
        "id": "Ed_uJxL2Ko37",
        "outputId": "9383bf5c-0193-4ee3-c0c9-cd0067c690c5"
      },
      "source": [
        "model.fit(x_train,y_train, batch_size=32, epochs=10, validation_split=0.2, callbacks=[model_checkpoint])"
      ],
      "execution_count": null,
      "outputs": [
        {
          "output_type": "stream",
          "text": [
            "Epoch 1/10\n",
            "1500/1500 [==============================] - 15s 10ms/step - loss: 0.1392 - accuracy: 0.9578 - val_loss: 0.0570 - val_accuracy: 0.9807\n",
            "Epoch 2/10\n",
            "1500/1500 [==============================] - 12s 8ms/step - loss: 0.0443 - accuracy: 0.9864 - val_loss: 0.0446 - val_accuracy: 0.9869\n",
            "Epoch 3/10\n",
            "1500/1500 [==============================] - 12s 8ms/step - loss: 0.0278 - accuracy: 0.9910 - val_loss: 0.0519 - val_accuracy: 0.9846\n",
            "Epoch 4/10\n",
            "1500/1500 [==============================] - 12s 8ms/step - loss: 0.0191 - accuracy: 0.9938 - val_loss: 0.0493 - val_accuracy: 0.9853\n",
            "Epoch 5/10\n",
            "1500/1500 [==============================] - 12s 8ms/step - loss: 0.0138 - accuracy: 0.9954 - val_loss: 0.0438 - val_accuracy: 0.9883\n",
            "Epoch 6/10\n",
            "1500/1500 [==============================] - 12s 8ms/step - loss: 0.0099 - accuracy: 0.9968 - val_loss: 0.0571 - val_accuracy: 0.9868\n",
            "Epoch 7/10\n",
            "1500/1500 [==============================] - 12s 8ms/step - loss: 0.0084 - accuracy: 0.9971 - val_loss: 0.0479 - val_accuracy: 0.9890\n",
            "Epoch 8/10\n",
            "1500/1500 [==============================] - 12s 8ms/step - loss: 0.0077 - accuracy: 0.9975 - val_loss: 0.0511 - val_accuracy: 0.9885\n",
            "Epoch 9/10\n",
            "1500/1500 [==============================] - 12s 8ms/step - loss: 0.0058 - accuracy: 0.9981 - val_loss: 0.0707 - val_accuracy: 0.9866\n",
            "Epoch 10/10\n",
            "1500/1500 [==============================] - 12s 8ms/step - loss: 0.0055 - accuracy: 0.9981 - val_loss: 0.0526 - val_accuracy: 0.9893\n"
          ],
          "name": "stdout"
        },
        {
          "output_type": "execute_result",
          "data": {
            "text/plain": [
              "<keras.callbacks.History at 0x7fda327389d0>"
            ]
          },
          "metadata": {
            "tags": []
          },
          "execution_count": 22
        }
      ]
    },
    {
      "cell_type": "code",
      "metadata": {
        "colab": {
          "base_uri": "https://localhost:8080/"
        },
        "id": "3wNgWzKWKvi6",
        "outputId": "00520608-fb01-4574-ec80-2ead19f8a0cd"
      },
      "source": [
        "loss, acc = model.evaluate(x_test, y_test)"
      ],
      "execution_count": null,
      "outputs": [
        {
          "output_type": "stream",
          "text": [
            "313/313 [==============================] - 2s 5ms/step - loss: 0.0483 - accuracy: 0.9901\n"
          ],
          "name": "stdout"
        }
      ]
    },
    {
      "cell_type": "code",
      "metadata": {
        "id": "-OE-YyWsJBdr"
      },
      "source": [
        "temp_image = tf.keras.preprocessing.image.random_rotation(\n",
        "    x_train[0], 30\n",
        ")"
      ],
      "execution_count": null,
      "outputs": []
    },
    {
      "cell_type": "code",
      "metadata": {
        "id": "SWHPLfGdJE0m"
      },
      "source": [
        "temp_image = np.squeeze(temp_image)"
      ],
      "execution_count": null,
      "outputs": []
    },
    {
      "cell_type": "code",
      "metadata": {
        "colab": {
          "base_uri": "https://localhost:8080/",
          "height": 374
        },
        "id": "YSIJ5WigJG5S",
        "outputId": "56364e0f-1d77-44d1-ee06-a19919c21b61"
      },
      "source": [
        "import matplotlib.pyplot as plt\n",
        "plt.figure(figsize=(15,10))\n",
        "plt.subplot(1,2,1)\n",
        "plt.imshow(np.squeeze(x_train[0]), \"gray\")\n",
        "plt.title(f\"{y_train[0]}\")\n",
        "\n",
        "plt.subplot(1,2,2)\n",
        "plt.imshow(temp_image, \"gray\")\n",
        "plt.title(f\"{y_train[0]}\")\n",
        "plt.show()"
      ],
      "execution_count": null,
      "outputs": [
        {
          "output_type": "display_data",
          "data": {
            "image/png": "[encoded data removed]",
            "text/plain": [
              "<Figure size 1080x720 with 2 Axes>"
            ]
          },
          "metadata": {
            "tags": [],
            "needs_background": "light"
          }
        }
      ]
    },
    {
      "cell_type": "code",
      "metadata": {
        "id": "5eRcvZVoJJdE"
      },
      "source": [
        "pred = model.predict(temp_image[np.newaxis,:,:,np.newaxis])"
      ],
      "execution_count": null,
      "outputs": []
    },
    {
      "cell_type": "code",
      "metadata": {
        "colab": {
          "base_uri": "https://localhost:8080/"
        },
        "id": "VCIaJBO6JWeR",
        "outputId": "8de00890-1381-4601-d90d-73ec85312c35"
      },
      "source": [
        "# CNN으로 MLP의 문제였던 지역, 공간 정보를 모델이 학습하지 못하는 문제를 해결\n",
        "np.argmax(pred)"
      ],
      "execution_count": null,
      "outputs": [
        {
          "output_type": "execute_result",
          "data": {
            "text/plain": [
              "5"
            ]
          },
          "metadata": {
            "tags": []
          },
          "execution_count": 28
        }
      ]
    },
    {
      "cell_type": "code",
      "metadata": {
        "id": "rzL63J4HJc6N"
      },
      "source": [
        ""
      ],
      "execution_count": null,
      "outputs": []
    }
  ]
}