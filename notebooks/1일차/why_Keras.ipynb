{
  "nbformat": 4,
  "nbformat_minor": 0,
  "metadata": {
    "colab": {
      "name": "why_Keras.ipynb",
      "provenance": []
    },
    "kernelspec": {
      "name": "python3",
      "display_name": "Python 3"
    },
    "language_info": {
      "name": "python"
    }
  },
  "cells": [
    {
      "cell_type": "markdown",
      "metadata": {
        "id": "pmj7ZHPmkIin"
      },
      "source": [
        "# 신경망 구현\n",
        "- 케라스를 사용하여 구현\n",
        "- 넘파이를 사용하여 구현\n",
        "$$ y= w_0x_0 + w_1x_1 $$"
      ]
    },
    {
      "cell_type": "code",
      "metadata": {
        "id": "onk2QyzJkFBV"
      },
      "source": [
        "import numpy as np\n",
        "from tensorflow import keras"
      ],
      "execution_count": null,
      "outputs": []
    },
    {
      "cell_type": "markdown",
      "metadata": {
        "id": "cfaRaV2zo32l"
      },
      "source": [
        "## Numpy"
      ]
    },
    {
      "cell_type": "code",
      "metadata": {
        "colab": {
          "base_uri": "https://localhost:8080/"
        },
        "id": "1tEpYM3FsK4k",
        "outputId": "73e50e20-9943-48e5-d517-baeecf23af4b"
      },
      "source": [
        "def init_network():\n",
        "    network = {}\n",
        "    network[\"W1\"] = np.random.normal(size=(2,3))\n",
        "    network[\"b1\"] = np.array([0.1, 0.2, 0.3])\n",
        "    network[\"W2\"] = np.random.normal(size=(3,2))\n",
        "    network[\"b2\"] = np.array([0.1, 0.2])\n",
        "    network[\"W3\"] = np.random.normal(size=(2,2))\n",
        "    network[\"b3\"] = np.array([0.1, 0.2])\n",
        "    return network\n",
        "\n",
        "def sigmoid(x):\n",
        "    return 1 /(1 + np.exp(-x))\n",
        "\n",
        "def forward(network, x):\n",
        "    W1, W2, W3 = network[\"W1\"], network[\"W2\"], network[\"W3\"]\n",
        "    b1, b2, b3 = network[\"b1\"], network[\"b2\"], network[\"b3\"]\n",
        "\n",
        "    a1 = np.dot(x, W1) + b1 \n",
        "    z1 = sigmoid(a1)\n",
        "    a2 = np.dot(z1, W2) + b2\n",
        "    z2 = sigmoid(a2)\n",
        "    a3 = np.dot(z2, W3) + b3\n",
        "    y = a3\n",
        "\n",
        "    return y\n",
        "network = init_network()\n",
        "x = np.array([1.0, 0.5])\n",
        "y = forward(network, x)\n",
        "y"
      ],
      "execution_count": null,
      "outputs": [
        {
          "output_type": "execute_result",
          "data": {
            "text/plain": [
              "array([1.51635396, 0.63290299])"
            ]
          },
          "metadata": {
            "tags": []
          },
          "execution_count": 2
        }
      ]
    },
    {
      "cell_type": "markdown",
      "metadata": {
        "id": "8MEjWc2cxyzq"
      },
      "source": [
        "## Keras"
      ]
    },
    {
      "cell_type": "code",
      "metadata": {
        "colab": {
          "base_uri": "https://localhost:8080/"
        },
        "id": "ZdggGOvjxcXC",
        "outputId": "f21d264a-5d45-4a81-ac49-e764d8f3a73a"
      },
      "source": [
        "x = np.array([[1.0, 0.5]])\n",
        "l1 = keras.layers.Dense(3, input_shape=(2,), activation=\"sigmoid\")\n",
        "l2 = keras.layers.Dense(2, activation=\"sigmoid\")\n",
        "l3 = keras.layers.Dense(2)\n",
        "model = keras.Sequential([l1, l2, l3])\n",
        "model.predict(x)"
      ],
      "execution_count": null,
      "outputs": [
        {
          "output_type": "execute_result",
          "data": {
            "text/plain": [
              "array([[0.5176393 , 0.37128723]], dtype=float32)"
            ]
          },
          "metadata": {
            "tags": []
          },
          "execution_count": 3
        }
      ]
    },
    {
      "cell_type": "markdown",
      "metadata": {
        "id": "tIDrA6ZAyNEk"
      },
      "source": [
        "### Referrence\n",
        "- 밑바닥부터 시작하는 딥러닝"
      ]
    }
  ]
}