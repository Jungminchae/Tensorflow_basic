{
  "nbformat": 4,
  "nbformat_minor": 0,
  "metadata": {
    "colab": {
      "name": "Tensorflow_모델.ipynb",
      "provenance": []
    },
    "kernelspec": {
      "name": "python3",
      "display_name": "Python 3"
    },
    "language_info": {
      "name": "python"
    },
    "accelerator": "GPU"
  },
  "cells": [
    {
      "cell_type": "code",
      "metadata": {
        "id": "5FegtH5zV6jl"
      },
      "source": [
        "import os\n",
        "import pandas as pd\n",
        "import numpy as np\n",
        "import tensorflow as tf\n",
        "from tensorflow import keras\n",
        "\n",
        "from tensorflow.keras import layers, activations, optimizers, metrics, losses\n",
        "from tensorflow.keras.utils import plot_model\n",
        "\n",
        "from sklearn.preprocessing import StandardScaler, RobustScaler, MinMaxScaler, OneHotEncoder, LabelEncoder"
      ],
      "execution_count": 1,
      "outputs": []
    },
    {
      "cell_type": "code",
      "metadata": {
        "colab": {
          "base_uri": "https://localhost:8080/"
        },
        "id": "UD99m8vUC1V4",
        "outputId": "b497b6e2-d8f1-4a5e-9b83-1f02373c76fb"
      },
      "source": [
        "os.listdir()"
      ],
      "execution_count": 2,
      "outputs": [
        {
          "output_type": "execute_result",
          "data": {
            "text/plain": [
              "['.config',\n",
              " 'train_data.npy',\n",
              " 'train_target.npy',\n",
              " 'test_target.npy',\n",
              " 'test_data.npy',\n",
              " 'sample_data']"
            ]
          },
          "metadata": {
            "tags": []
          },
          "execution_count": 2
        }
      ]
    },
    {
      "cell_type": "code",
      "metadata": {
        "id": "dvkC45EWDOdw"
      },
      "source": [
        "# numpy data 불러오기\n",
        "train_data = np.load(\"train_data.npy\")\n",
        "train_target = np.load(\"train_target.npy\")\n",
        "test_data = np.load(\"test_data.npy\")\n",
        "test_target = np.load(\"test_target.npy\")"
      ],
      "execution_count": 3,
      "outputs": []
    },
    {
      "cell_type": "code",
      "metadata": {
        "id": "6RX-K7IC8nqo"
      },
      "source": [
        "# numpy data 저장\n",
        "np.save(\"train_data_2.npy\", train_data)\n",
        "np.save(\"train_target_2.npy\", train_target)\n",
        "np.save(\"test_data_2.npy\", test_data)\n",
        "np.save(\"test_target_2.npy\", test_target)"
      ],
      "execution_count": 4,
      "outputs": []
    },
    {
      "cell_type": "code",
      "metadata": {
        "colab": {
          "base_uri": "https://localhost:8080/"
        },
        "id": "WwqG2nxIDS0U",
        "outputId": "ecbf7a3e-fa97-42fd-e3d8-3d801a949e7c"
      },
      "source": [
        "train_data.shape, train_target.shape, test_data.shape, test_target.shape"
      ],
      "execution_count": 5,
      "outputs": [
        {
          "output_type": "execute_result",
          "data": {
            "text/plain": [
              "((314, 9), (314,), (78, 9), (78,))"
            ]
          },
          "metadata": {
            "tags": []
          },
          "execution_count": 5
        }
      ]
    },
    {
      "cell_type": "code",
      "metadata": {
        "id": "twRIUKB8WcWY"
      },
      "source": [
        "X=np.array([[1,2,3,4,5,6,7,8,9]]) # 공부하는 시간\n",
        "y=np.array([[11],[22],[33],[44],[53],[66],[77],[87],[95]]) # 각 공부하는 시간에 맵핑되는 성적"
      ],
      "execution_count": null,
      "outputs": []
    },
    {
      "cell_type": "code",
      "metadata": {
        "id": "RVzLrVrKYaXL"
      },
      "source": [
        "# y = np.random.randint(low=0,high=100,size=(100,1))"
      ],
      "execution_count": null,
      "outputs": []
    },
    {
      "cell_type": "markdown",
      "metadata": {
        "id": "YZQ7cBncaAdg"
      },
      "source": [
        "## Scaling"
      ]
    },
    {
      "cell_type": "code",
      "metadata": {
        "id": "n7du4le7Wgp8"
      },
      "source": [
        "# scaling\n",
        "s_scale = StandardScaler()\n",
        "m_scale = MinMaxScaler()\n",
        "r_scale = RobustScaler()"
      ],
      "execution_count": null,
      "outputs": []
    },
    {
      "cell_type": "code",
      "metadata": {
        "colab": {
          "base_uri": "https://localhost:8080/"
        },
        "id": "8UBESOc0ZSo1",
        "outputId": "f6d9c13b-0a9b-4afa-94cd-1410b3bbdd18"
      },
      "source": [
        "y.shape"
      ],
      "execution_count": null,
      "outputs": [
        {
          "output_type": "execute_result",
          "data": {
            "text/plain": [
              "(9, 1)"
            ]
          },
          "metadata": {
            "tags": []
          },
          "execution_count": 40
        }
      ]
    },
    {
      "cell_type": "code",
      "metadata": {
        "id": "GulBCM4AXb86"
      },
      "source": [
        "s_scaled = s_scale.fit_transform(y)\n",
        "m_scaled = m_scale.fit_transform(y)\n",
        "r_scaled = r_scale.fit_transform(y)"
      ],
      "execution_count": null,
      "outputs": []
    },
    {
      "cell_type": "code",
      "metadata": {
        "colab": {
          "base_uri": "https://localhost:8080/"
        },
        "id": "LZD4INTsY4CI",
        "outputId": "19e26e53-2917-4145-8123-6d1de0c0cfdc"
      },
      "source": [
        "s_scaled"
      ],
      "execution_count": null,
      "outputs": [
        {
          "output_type": "execute_result",
          "data": {
            "text/plain": [
              "array([[-1.56582665],\n",
              "       [-1.16732578],\n",
              "       [-0.76882491],\n",
              "       [-0.37032404],\n",
              "       [-0.04427787],\n",
              "       [ 0.4266777 ],\n",
              "       [ 0.82517857],\n",
              "       [ 1.18745208],\n",
              "       [ 1.4772709 ]])"
            ]
          },
          "metadata": {
            "tags": []
          },
          "execution_count": 34
        }
      ]
    },
    {
      "cell_type": "code",
      "metadata": {
        "colab": {
          "base_uri": "https://localhost:8080/"
        },
        "id": "4mlbrOyDX5NJ",
        "outputId": "34e507df-1f5e-4e7e-84ff-af71743d3e62"
      },
      "source": [
        "m_scaled"
      ],
      "execution_count": null,
      "outputs": [
        {
          "output_type": "execute_result",
          "data": {
            "text/plain": [
              "array([[0.        ],\n",
              "       [0.13095238],\n",
              "       [0.26190476],\n",
              "       [0.39285714],\n",
              "       [0.5       ],\n",
              "       [0.6547619 ],\n",
              "       [0.78571429],\n",
              "       [0.9047619 ],\n",
              "       [1.        ]])"
            ]
          },
          "metadata": {
            "tags": []
          },
          "execution_count": 35
        }
      ]
    },
    {
      "cell_type": "code",
      "metadata": {
        "colab": {
          "base_uri": "https://localhost:8080/"
        },
        "id": "yWMWub__X9Iq",
        "outputId": "c9253aae-9164-40c5-eee6-98628e98463b"
      },
      "source": [
        "r_scaled"
      ],
      "execution_count": null,
      "outputs": [
        {
          "output_type": "execute_result",
          "data": {
            "text/plain": [
              "array([[-0.95454545],\n",
              "       [-0.70454545],\n",
              "       [-0.45454545],\n",
              "       [-0.20454545],\n",
              "       [ 0.        ],\n",
              "       [ 0.29545455],\n",
              "       [ 0.54545455],\n",
              "       [ 0.77272727],\n",
              "       [ 0.95454545]])"
            ]
          },
          "metadata": {
            "tags": []
          },
          "execution_count": 36
        }
      ]
    },
    {
      "cell_type": "markdown",
      "metadata": {
        "id": "8iYwNXx7aDYU"
      },
      "source": [
        "# Encoding"
      ]
    },
    {
      "cell_type": "code",
      "metadata": {
        "id": "fpkEK9GhX-05"
      },
      "source": [
        "# one-hot\n",
        "df = pd.DataFrame()"
      ],
      "execution_count": null,
      "outputs": []
    },
    {
      "cell_type": "code",
      "metadata": {
        "id": "dXOVUOSwaieq"
      },
      "source": [
        "df[\"국가\"] = ['한국', \"일본\", \"중국\", \"미국\", \"영국\"]"
      ],
      "execution_count": null,
      "outputs": []
    },
    {
      "cell_type": "code",
      "metadata": {
        "colab": {
          "base_uri": "https://localhost:8080/",
          "height": 205
        },
        "id": "b_OIvvAdbHyK",
        "outputId": "148110b7-4fad-4391-929d-db53143164a3"
      },
      "source": [
        "df"
      ],
      "execution_count": null,
      "outputs": [
        {
          "output_type": "execute_result",
          "data": {
            "text/html": [
              "<div>\n",
              "<style scoped>\n",
              "    .dataframe tbody tr th:only-of-type {\n",
              "        vertical-align: middle;\n",
              "    }\n",
              "\n",
              "    .dataframe tbody tr th {\n",
              "        vertical-align: top;\n",
              "    }\n",
              "\n",
              "    .dataframe thead th {\n",
              "        text-align: right;\n",
              "    }\n",
              "</style>\n",
              "<table border=\"1\" class=\"dataframe\">\n",
              "  <thead>\n",
              "    <tr style=\"text-align: right;\">\n",
              "      <th></th>\n",
              "      <th>국가</th>\n",
              "    </tr>\n",
              "  </thead>\n",
              "  <tbody>\n",
              "    <tr>\n",
              "      <th>0</th>\n",
              "      <td>한국</td>\n",
              "    </tr>\n",
              "    <tr>\n",
              "      <th>1</th>\n",
              "      <td>일본</td>\n",
              "    </tr>\n",
              "    <tr>\n",
              "      <th>2</th>\n",
              "      <td>중국</td>\n",
              "    </tr>\n",
              "    <tr>\n",
              "      <th>3</th>\n",
              "      <td>미국</td>\n",
              "    </tr>\n",
              "    <tr>\n",
              "      <th>4</th>\n",
              "      <td>영국</td>\n",
              "    </tr>\n",
              "  </tbody>\n",
              "</table>\n",
              "</div>"
            ],
            "text/plain": [
              "   국가\n",
              "0  한국\n",
              "1  일본\n",
              "2  중국\n",
              "3  미국\n",
              "4  영국"
            ]
          },
          "metadata": {
            "tags": []
          },
          "execution_count": 49
        }
      ]
    },
    {
      "cell_type": "code",
      "metadata": {
        "id": "rjwyt7tTa2H5"
      },
      "source": [
        "# pandas 이용 one-hot\n",
        "one_hot_df = pd.get_dummies(df, columns=[\"국가\"])"
      ],
      "execution_count": null,
      "outputs": []
    },
    {
      "cell_type": "code",
      "metadata": {
        "colab": {
          "base_uri": "https://localhost:8080/",
          "height": 205
        },
        "id": "uYwObvAibBfo",
        "outputId": "69c88eb1-58b7-4c3c-937a-d343c8f49269"
      },
      "source": [
        "one_hot_df"
      ],
      "execution_count": null,
      "outputs": [
        {
          "output_type": "execute_result",
          "data": {
            "text/html": [
              "<div>\n",
              "<style scoped>\n",
              "    .dataframe tbody tr th:only-of-type {\n",
              "        vertical-align: middle;\n",
              "    }\n",
              "\n",
              "    .dataframe tbody tr th {\n",
              "        vertical-align: top;\n",
              "    }\n",
              "\n",
              "    .dataframe thead th {\n",
              "        text-align: right;\n",
              "    }\n",
              "</style>\n",
              "<table border=\"1\" class=\"dataframe\">\n",
              "  <thead>\n",
              "    <tr style=\"text-align: right;\">\n",
              "      <th></th>\n",
              "      <th>국가_미국</th>\n",
              "      <th>국가_영국</th>\n",
              "      <th>국가_일본</th>\n",
              "      <th>국가_중국</th>\n",
              "      <th>국가_한국</th>\n",
              "    </tr>\n",
              "  </thead>\n",
              "  <tbody>\n",
              "    <tr>\n",
              "      <th>0</th>\n",
              "      <td>0</td>\n",
              "      <td>0</td>\n",
              "      <td>0</td>\n",
              "      <td>0</td>\n",
              "      <td>1</td>\n",
              "    </tr>\n",
              "    <tr>\n",
              "      <th>1</th>\n",
              "      <td>0</td>\n",
              "      <td>0</td>\n",
              "      <td>1</td>\n",
              "      <td>0</td>\n",
              "      <td>0</td>\n",
              "    </tr>\n",
              "    <tr>\n",
              "      <th>2</th>\n",
              "      <td>0</td>\n",
              "      <td>0</td>\n",
              "      <td>0</td>\n",
              "      <td>1</td>\n",
              "      <td>0</td>\n",
              "    </tr>\n",
              "    <tr>\n",
              "      <th>3</th>\n",
              "      <td>1</td>\n",
              "      <td>0</td>\n",
              "      <td>0</td>\n",
              "      <td>0</td>\n",
              "      <td>0</td>\n",
              "    </tr>\n",
              "    <tr>\n",
              "      <th>4</th>\n",
              "      <td>0</td>\n",
              "      <td>1</td>\n",
              "      <td>0</td>\n",
              "      <td>0</td>\n",
              "      <td>0</td>\n",
              "    </tr>\n",
              "  </tbody>\n",
              "</table>\n",
              "</div>"
            ],
            "text/plain": [
              "   국가_미국  국가_영국  국가_일본  국가_중국  국가_한국\n",
              "0      0      0      0      0      1\n",
              "1      0      0      1      0      0\n",
              "2      0      0      0      1      0\n",
              "3      1      0      0      0      0\n",
              "4      0      1      0      0      0"
            ]
          },
          "metadata": {
            "tags": []
          },
          "execution_count": 48
        }
      ]
    },
    {
      "cell_type": "code",
      "metadata": {
        "colab": {
          "base_uri": "https://localhost:8080/"
        },
        "id": "OaV4YQE9bGVW",
        "outputId": "04e83aae-9bb5-4d3b-87a6-4197ee4aad1b"
      },
      "source": [
        "# sklearn 이용\n",
        "one_hot = OneHotEncoder()\n",
        "one_hot_obj = one_hot.fit_transform(df[\"국가\"].values.reshape(-1,1))\n",
        "one_hot_arr = one_hot_obj.toarray()\n",
        "one_hot_arr"
      ],
      "execution_count": null,
      "outputs": [
        {
          "output_type": "execute_result",
          "data": {
            "text/plain": [
              "array([[0., 0., 0., 0., 1.],\n",
              "       [0., 0., 1., 0., 0.],\n",
              "       [0., 0., 0., 1., 0.],\n",
              "       [1., 0., 0., 0., 0.],\n",
              "       [0., 1., 0., 0., 0.]])"
            ]
          },
          "metadata": {
            "tags": []
          },
          "execution_count": 52
        }
      ]
    },
    {
      "cell_type": "code",
      "metadata": {
        "colab": {
          "base_uri": "https://localhost:8080/",
          "height": 205
        },
        "id": "ntu_eWg6bkld",
        "outputId": "b6900188-7fdd-4cfe-d7e8-32406b7a5497"
      },
      "source": [
        "# 노가다스러운 방법\n",
        "nogada_df = df.copy()\n",
        "nogada_df[\"한국\"] = nogada_df[\"국가\"].apply(lambda x : 1 if x == \"한국\" else 0)\n",
        "nogada_df[\"일본\"] = nogada_df[\"국가\"].apply(lambda x : 1 if x == \"일본\" else 0)\n",
        "nogada_df[\"중국\"] = nogada_df[\"국가\"].apply(lambda x : 1 if x == \"중국\" else 0)\n",
        "nogada_df[\"미국\"] = nogada_df[\"국가\"].apply(lambda x : 1 if x == \"미국\" else 0)\n",
        "nogada_df[\"영국\"] = nogada_df[\"국가\"].apply(lambda x : 1 if x == \"영국\" else 0)\n",
        "nogada_df = nogada_df.drop(\"국가\", axis=1)\n",
        "nogada_df"
      ],
      "execution_count": null,
      "outputs": [
        {
          "output_type": "execute_result",
          "data": {
            "text/html": [
              "<div>\n",
              "<style scoped>\n",
              "    .dataframe tbody tr th:only-of-type {\n",
              "        vertical-align: middle;\n",
              "    }\n",
              "\n",
              "    .dataframe tbody tr th {\n",
              "        vertical-align: top;\n",
              "    }\n",
              "\n",
              "    .dataframe thead th {\n",
              "        text-align: right;\n",
              "    }\n",
              "</style>\n",
              "<table border=\"1\" class=\"dataframe\">\n",
              "  <thead>\n",
              "    <tr style=\"text-align: right;\">\n",
              "      <th></th>\n",
              "      <th>한국</th>\n",
              "      <th>일본</th>\n",
              "      <th>중국</th>\n",
              "      <th>미국</th>\n",
              "      <th>영국</th>\n",
              "    </tr>\n",
              "  </thead>\n",
              "  <tbody>\n",
              "    <tr>\n",
              "      <th>0</th>\n",
              "      <td>1</td>\n",
              "      <td>0</td>\n",
              "      <td>0</td>\n",
              "      <td>0</td>\n",
              "      <td>0</td>\n",
              "    </tr>\n",
              "    <tr>\n",
              "      <th>1</th>\n",
              "      <td>0</td>\n",
              "      <td>1</td>\n",
              "      <td>0</td>\n",
              "      <td>0</td>\n",
              "      <td>0</td>\n",
              "    </tr>\n",
              "    <tr>\n",
              "      <th>2</th>\n",
              "      <td>0</td>\n",
              "      <td>0</td>\n",
              "      <td>1</td>\n",
              "      <td>0</td>\n",
              "      <td>0</td>\n",
              "    </tr>\n",
              "    <tr>\n",
              "      <th>3</th>\n",
              "      <td>0</td>\n",
              "      <td>0</td>\n",
              "      <td>0</td>\n",
              "      <td>1</td>\n",
              "      <td>0</td>\n",
              "    </tr>\n",
              "    <tr>\n",
              "      <th>4</th>\n",
              "      <td>0</td>\n",
              "      <td>0</td>\n",
              "      <td>0</td>\n",
              "      <td>0</td>\n",
              "      <td>1</td>\n",
              "    </tr>\n",
              "  </tbody>\n",
              "</table>\n",
              "</div>"
            ],
            "text/plain": [
              "   한국  일본  중국  미국  영국\n",
              "0   1   0   0   0   0\n",
              "1   0   1   0   0   0\n",
              "2   0   0   1   0   0\n",
              "3   0   0   0   1   0\n",
              "4   0   0   0   0   1"
            ]
          },
          "metadata": {
            "tags": []
          },
          "execution_count": 53
        }
      ]
    },
    {
      "cell_type": "code",
      "metadata": {
        "colab": {
          "base_uri": "https://localhost:8080/"
        },
        "id": "VCTuHgRkcogy",
        "outputId": "b7260a1e-d5c7-44bd-c831-9564bd3228be"
      },
      "source": [
        "# label encoding\n",
        "# sklearn\n",
        "label = LabelEncoder()\n",
        "label_arr = label.fit_transform(df[\"국가\"])\n",
        "label_arr "
      ],
      "execution_count": null,
      "outputs": [
        {
          "output_type": "execute_result",
          "data": {
            "text/plain": [
              "array([4, 2, 3, 0, 1])"
            ]
          },
          "metadata": {
            "tags": []
          },
          "execution_count": 59
        }
      ]
    },
    {
      "cell_type": "code",
      "metadata": {
        "colab": {
          "base_uri": "https://localhost:8080/"
        },
        "id": "Ns5e4wS0d9uI",
        "outputId": "ae00b577-72e4-442b-90d4-650568532022"
      },
      "source": [
        "label.classes_"
      ],
      "execution_count": null,
      "outputs": [
        {
          "output_type": "execute_result",
          "data": {
            "text/plain": [
              "array(['미국', '영국', '일본', '중국', '한국'], dtype=object)"
            ]
          },
          "metadata": {
            "tags": []
          },
          "execution_count": 60
        }
      ]
    },
    {
      "cell_type": "code",
      "metadata": {
        "colab": {
          "base_uri": "https://localhost:8080/"
        },
        "id": "MqYOmsG_eCeG",
        "outputId": "f8994d54-578c-458f-f3e0-c0feaef4c2a5"
      },
      "source": [
        "df[\"국가\"]"
      ],
      "execution_count": null,
      "outputs": [
        {
          "output_type": "execute_result",
          "data": {
            "text/plain": [
              "0    한국\n",
              "1    일본\n",
              "2    중국\n",
              "3    미국\n",
              "4    영국\n",
              "Name: 국가, dtype: object"
            ]
          },
          "metadata": {
            "tags": []
          },
          "execution_count": 61
        }
      ]
    },
    {
      "cell_type": "code",
      "metadata": {
        "colab": {
          "base_uri": "https://localhost:8080/",
          "height": 205
        },
        "id": "04K8fbLaeu0B",
        "outputId": "c1e810b3-bff5-477d-f10e-4a40ee6cb182"
      },
      "source": [
        "# 노가다 \n",
        "nogada_df = df.copy()\n",
        "nogada_df[\"국가\"] = nogada_df[\"국가\"].map({\"한국\": 0, \"일본\": 1, \"중국\": 2, \"미국\": 3, \"영국\": 4})\n",
        "nogada_df"
      ],
      "execution_count": null,
      "outputs": [
        {
          "output_type": "execute_result",
          "data": {
            "text/html": [
              "<div>\n",
              "<style scoped>\n",
              "    .dataframe tbody tr th:only-of-type {\n",
              "        vertical-align: middle;\n",
              "    }\n",
              "\n",
              "    .dataframe tbody tr th {\n",
              "        vertical-align: top;\n",
              "    }\n",
              "\n",
              "    .dataframe thead th {\n",
              "        text-align: right;\n",
              "    }\n",
              "</style>\n",
              "<table border=\"1\" class=\"dataframe\">\n",
              "  <thead>\n",
              "    <tr style=\"text-align: right;\">\n",
              "      <th></th>\n",
              "      <th>국가</th>\n",
              "    </tr>\n",
              "  </thead>\n",
              "  <tbody>\n",
              "    <tr>\n",
              "      <th>0</th>\n",
              "      <td>0</td>\n",
              "    </tr>\n",
              "    <tr>\n",
              "      <th>1</th>\n",
              "      <td>1</td>\n",
              "    </tr>\n",
              "    <tr>\n",
              "      <th>2</th>\n",
              "      <td>2</td>\n",
              "    </tr>\n",
              "    <tr>\n",
              "      <th>3</th>\n",
              "      <td>3</td>\n",
              "    </tr>\n",
              "    <tr>\n",
              "      <th>4</th>\n",
              "      <td>4</td>\n",
              "    </tr>\n",
              "  </tbody>\n",
              "</table>\n",
              "</div>"
            ],
            "text/plain": [
              "   국가\n",
              "0   0\n",
              "1   1\n",
              "2   2\n",
              "3   3\n",
              "4   4"
            ]
          },
          "metadata": {
            "tags": []
          },
          "execution_count": 63
        }
      ]
    },
    {
      "cell_type": "markdown",
      "metadata": {
        "id": "8n7CWIAYflLU"
      },
      "source": [
        "## 다양한 Activation"
      ]
    },
    {
      "cell_type": "code",
      "metadata": {
        "id": "nDebvKVwfcJy"
      },
      "source": [
        "# relu = activations.relu(x)\n",
        "# elu = activations.elu(x)\n",
        "# gelu = activations.gelu(x)\n",
        "# sigmoid = activations.sigmoid(x)\n",
        "# softmax = activations.softmax(x)\n",
        "relu = layers.Activation(\"relu\")\n",
        "elu = layers.Activation(\"elu\")\n",
        "gelu = layers.Activation(\"gelu\")\n",
        "sigmoid = layers.Activation(\"sigmoid\")\n",
        "softmax = layers.Activation(\"softmax\")"
      ],
      "execution_count": null,
      "outputs": []
    },
    {
      "cell_type": "markdown",
      "metadata": {
        "id": "_G_V4ZIuh7PP"
      },
      "source": [
        "## 다양한 Optimizer"
      ]
    },
    {
      "cell_type": "code",
      "metadata": {
        "id": "wnT1x5OLgQvL"
      },
      "source": [
        "sgd = optimizers.SGD()\n",
        "adadelta = optimizers.Adadelta()\n",
        "rmsprop = optimizers.RMSprop()\n",
        "adagrad = optimizers.Adagrad()\n",
        "adam = optimizers.Adam()"
      ],
      "execution_count": null,
      "outputs": []
    },
    {
      "cell_type": "markdown",
      "metadata": {
        "id": "NFXgrngnj_ev"
      },
      "source": [
        "## 다양한 Loss"
      ]
    },
    {
      "cell_type": "code",
      "metadata": {
        "id": "b2xugKnVjJP0"
      },
      "source": [
        "bce = losses.BinaryCrossentropy()\n",
        "cce = losses.CategoricalCrossentropy()\n",
        "spe = losses.SparseCategoricalCrossentropy()\n",
        "mse = losses.MeanSquaredError()\n",
        "mae = losses.MeanAbsoluteError()"
      ],
      "execution_count": null,
      "outputs": []
    },
    {
      "cell_type": "markdown",
      "metadata": {
        "id": "RbnzFxlWkEyS"
      },
      "source": [
        "## 다양한 Metrics"
      ]
    },
    {
      "cell_type": "code",
      "metadata": {
        "id": "Qs_vp3W7il9T"
      },
      "source": [
        "acc =metrics.Accuracy()\n",
        "bce =metrics.BinaryCrossentropy()\n",
        "cce = metrics.CategoricalCrossentropy()\n",
        "sce =metrics.SparseCategoricalCrossentropy()\n",
        "mae =metrics.MeanAbsoluteError()\n",
        "mse =metrics.MeanSquaredError()\n",
        "rmse =metrics.RootMeanSquaredError()"
      ],
      "execution_count": null,
      "outputs": []
    },
    {
      "cell_type": "markdown",
      "metadata": {
        "id": "BcYKdNYwDteP"
      },
      "source": [
        "## 모델 만들기"
      ]
    },
    {
      "cell_type": "code",
      "metadata": {
        "id": "2JVgmLT4Du_k"
      },
      "source": [
        "# Sequential\n",
        "sequential_model = keras.Sequential([\n",
        "    layers.Dense(64, kernel_initializer=\"he_normal\", input_shape=(train_data.shape[1],), activation=\"relu\"),\n",
        "    layers.Dense(64, kernel_initializer=\"he_normal\", activation='relu'),\n",
        "    layers.Dense(32, kernel_initializer=\"he_normal\", activation=\"relu\"),\n",
        "    layers.Dense(1)                                     \n",
        "])"
      ],
      "execution_count": null,
      "outputs": []
    },
    {
      "cell_type": "code",
      "metadata": {
        "colab": {
          "base_uri": "https://localhost:8080/"
        },
        "id": "VgaQxvnkEu2v",
        "outputId": "502f7555-a956-41d8-b0b1-a86d02478596"
      },
      "source": [
        "sequential_model.summary()"
      ],
      "execution_count": null,
      "outputs": [
        {
          "output_type": "stream",
          "text": [
            "Model: \"sequential\"\n",
            "_________________________________________________________________\n",
            "Layer (type)                 Output Shape              Param #   \n",
            "=================================================================\n",
            "dense (Dense)                (None, 64)                640       \n",
            "_________________________________________________________________\n",
            "dense_1 (Dense)              (None, 64)                4160      \n",
            "_________________________________________________________________\n",
            "dense_2 (Dense)              (None, 32)                2080      \n",
            "_________________________________________________________________\n",
            "dense_3 (Dense)              (None, 1)                 33        \n",
            "=================================================================\n",
            "Total params: 6,913\n",
            "Trainable params: 6,913\n",
            "Non-trainable params: 0\n",
            "_________________________________________________________________\n"
          ],
          "name": "stdout"
        }
      ]
    },
    {
      "cell_type": "code",
      "metadata": {
        "colab": {
          "base_uri": "https://localhost:8080/",
          "height": 533
        },
        "id": "Ppy44DEft7AU",
        "outputId": "8f8df8fd-cdca-43b6-b029-5a562f48c6db"
      },
      "source": [
        "plot_model(sequential_model, show_shapes=True)"
      ],
      "execution_count": null,
      "outputs": [
        {
          "output_type": "execute_result",
          "data": {
            "image/png": "[encoded data removed]",
            "text/plain": [
              "<IPython.core.display.Image object>"
            ]
          },
          "metadata": {
            "tags": []
          },
          "execution_count": 7
        }
      ]
    },
    {
      "cell_type": "code",
      "metadata": {
        "id": "pWad67PtEych"
      },
      "source": [
        "# Funtional\n",
        "input_ = layers.Input(shape=(train_data.shape[1],))\n",
        "x = layers.Dense(64, kernel_initializer=\"he_normal\", activation=\"relu\")(input_)\n",
        "x = layers.Dense(64, kernel_initializer=\"he_normal\", activation=\"relu\")(x)\n",
        "x = layers.Dense(32, kernel_initializer=\"he_normal\", activation=\"relu\")(x)\n",
        "output = layers.Dense(1)(x)\n",
        "\n",
        "functional_model = keras.Model(input_, output)\n"
      ],
      "execution_count": null,
      "outputs": []
    },
    {
      "cell_type": "code",
      "metadata": {
        "colab": {
          "base_uri": "https://localhost:8080/"
        },
        "id": "7ywnz_D5F3Ns",
        "outputId": "816151b5-6d48-4a78-e6fb-0777d145d26c"
      },
      "source": [
        "functional_model.summary()"
      ],
      "execution_count": null,
      "outputs": [
        {
          "output_type": "stream",
          "text": [
            "Model: \"model\"\n",
            "_________________________________________________________________\n",
            "Layer (type)                 Output Shape              Param #   \n",
            "=================================================================\n",
            "input_1 (InputLayer)         [(None, 9)]               0         \n",
            "_________________________________________________________________\n",
            "dense_4 (Dense)              (None, 64)                640       \n",
            "_________________________________________________________________\n",
            "dense_5 (Dense)              (None, 64)                4160      \n",
            "_________________________________________________________________\n",
            "dense_6 (Dense)              (None, 32)                2080      \n",
            "_________________________________________________________________\n",
            "dense_7 (Dense)              (None, 1)                 33        \n",
            "=================================================================\n",
            "Total params: 6,913\n",
            "Trainable params: 6,913\n",
            "Non-trainable params: 0\n",
            "_________________________________________________________________\n"
          ],
          "name": "stdout"
        }
      ]
    },
    {
      "cell_type": "code",
      "metadata": {
        "colab": {
          "base_uri": "https://localhost:8080/",
          "height": 533
        },
        "id": "FopB-Oh2tOiW",
        "outputId": "9f917b3d-15a2-4344-9615-3cf8dea7c807"
      },
      "source": [
        "plot_model(functional_model, show_shapes=True)"
      ],
      "execution_count": null,
      "outputs": [
        {
          "output_type": "execute_result",
          "data": {
            "image/png": "[encoded data removed]",
            "text/plain": [
              "<IPython.core.display.Image object>"
            ]
          },
          "metadata": {
            "tags": []
          },
          "execution_count": 10
        }
      ]
    },
    {
      "cell_type": "code",
      "metadata": {
        "colab": {
          "base_uri": "https://localhost:8080/"
        },
        "id": "Ko5mGVllF8Ud",
        "outputId": "a96132c2-a421-4f4b-898f-44544c3e624f"
      },
      "source": [
        "# functional\n",
        "input_ = keras.layers.Input(train_data.shape[1])\n",
        "x_1 = keras.layers.Dense(32, activation=\"relu\")(input_)\n",
        "x_2 = keras.layers.Dense(32, activation=\"relu\")(x_1)\n",
        "print(x_2.shape)\n",
        "concat = keras.layers.Concatenate()([input_, x_2])\n",
        "print(concat.shape)\n",
        "output = keras.layers.Dense(1)(concat)\n",
        "functional_model = keras.Model(input_, output)"
      ],
      "execution_count": null,
      "outputs": [
        {
          "output_type": "stream",
          "text": [
            "(None, 32)\n",
            "(None, 41)\n"
          ],
          "name": "stdout"
        }
      ]
    },
    {
      "cell_type": "code",
      "metadata": {
        "colab": {
          "base_uri": "https://localhost:8080/"
        },
        "id": "xX-OVqO3viqs",
        "outputId": "f7bb958e-b793-4ba2-a5a4-16a7c32eb4b0"
      },
      "source": [
        "functional_model.summary()"
      ],
      "execution_count": null,
      "outputs": [
        {
          "output_type": "stream",
          "text": [
            "Model: \"model_2\"\n",
            "__________________________________________________________________________________________________\n",
            "Layer (type)                    Output Shape         Param #     Connected to                     \n",
            "==================================================================================================\n",
            "input_5 (InputLayer)            [(None, 9)]          0                                            \n",
            "__________________________________________________________________________________________________\n",
            "dense_15 (Dense)                (None, 32)           320         input_5[0][0]                    \n",
            "__________________________________________________________________________________________________\n",
            "dense_16 (Dense)                (None, 32)           1056        dense_15[0][0]                   \n",
            "__________________________________________________________________________________________________\n",
            "concatenate_3 (Concatenate)     (None, 41)           0           input_5[0][0]                    \n",
            "                                                                 dense_16[0][0]                   \n",
            "__________________________________________________________________________________________________\n",
            "dense_17 (Dense)                (None, 1)            42          concatenate_3[0][0]              \n",
            "==================================================================================================\n",
            "Total params: 1,418\n",
            "Trainable params: 1,418\n",
            "Non-trainable params: 0\n",
            "__________________________________________________________________________________________________\n"
          ],
          "name": "stdout"
        }
      ]
    },
    {
      "cell_type": "code",
      "metadata": {
        "colab": {
          "base_uri": "https://localhost:8080/",
          "height": 533
        },
        "id": "YjyqoPoEvxo7",
        "outputId": "c568a06c-7578-463c-a8f1-086f689f77ce"
      },
      "source": [
        "plot_model(functional_model, show_shapes=True)"
      ],
      "execution_count": null,
      "outputs": [
        {
          "output_type": "execute_result",
          "data": {
            "image/png": "[encoded data removed]",
            "text/plain": [
              "<IPython.core.display.Image object>"
            ]
          },
          "metadata": {
            "tags": []
          },
          "execution_count": 16
        }
      ]
    },
    {
      "cell_type": "code",
      "metadata": {
        "id": "-2u-aC7hv3Yr"
      },
      "source": [
        "# subclassing\n",
        "class SubclassingModel(keras.Model):\n",
        "    def __init__(self, units=32, activation=\"relu\"):\n",
        "        super().__init__()\n",
        "        self.hidden1 = keras.layers.Dense(units, activation=activation)\n",
        "        self.hidden2 = keras.layers.Dense(units, activation=activation)\n",
        "        self.output_ = keras.layers.Dense(1) # output 이라는 변수명 사용불가\n",
        "    \n",
        "    # input 레이어 만들필요없음\n",
        "    def call(self, inputs):\n",
        "        hidden1 = self.hidden1(inputs)\n",
        "        hidden2 = self.hidden2(hidden1)\n",
        "        output = self.output_(hidden2)\n",
        "        return output"
      ],
      "execution_count": null,
      "outputs": []
    },
    {
      "cell_type": "code",
      "metadata": {
        "id": "aMmKMoU7wXNg"
      },
      "source": [
        "subclass =SubclassingModel()"
      ],
      "execution_count": null,
      "outputs": []
    },
    {
      "cell_type": "code",
      "metadata": {
        "id": "-DrYGezKzrIq"
      },
      "source": [
        "subclass.compile(\n",
        "    loss=\"mse\",\n",
        "    optimizer=\"adam\",\n",
        "    metrics=[\"mae\"]\n",
        ")"
      ],
      "execution_count": null,
      "outputs": []
    },
    {
      "cell_type": "code",
      "metadata": {
        "colab": {
          "base_uri": "https://localhost:8080/"
        },
        "id": "07pyiT-H3FX_",
        "outputId": "8366dead-000d-41c3-dacc-6e9affb7d32c"
      },
      "source": [
        "subclass.fit(train_data, train_target, epochs=1)"
      ],
      "execution_count": null,
      "outputs": [
        {
          "output_type": "stream",
          "text": [
            "10/10 [==============================] - 0s 3ms/step - loss: 580.0695 - mae: 22.7725\n"
          ],
          "name": "stdout"
        },
        {
          "output_type": "execute_result",
          "data": {
            "text/plain": [
              "<tensorflow.python.keras.callbacks.History at 0x7f648204bad0>"
            ]
          },
          "metadata": {
            "tags": []
          },
          "execution_count": 52
        }
      ]
    },
    {
      "cell_type": "code",
      "metadata": {
        "colab": {
          "base_uri": "https://localhost:8080/"
        },
        "id": "MBZym1c13peo",
        "outputId": "a465f36e-0738-48b2-c9ab-cd4a40404587"
      },
      "source": [
        "# 서브클래스는 학습 후에 summary를 찍어볼 수 있음\n",
        "subclass.summary()"
      ],
      "execution_count": null,
      "outputs": [
        {
          "output_type": "stream",
          "text": [
            "Model: \"subclassing_model_5\"\n",
            "_________________________________________________________________\n",
            "Layer (type)                 Output Shape              Param #   \n",
            "=================================================================\n",
            "dense_29 (Dense)             multiple                  320       \n",
            "_________________________________________________________________\n",
            "dense_30 (Dense)             multiple                  1056      \n",
            "_________________________________________________________________\n",
            "dense_31 (Dense)             multiple                  33        \n",
            "=================================================================\n",
            "Total params: 1,409\n",
            "Trainable params: 1,409\n",
            "Non-trainable params: 0\n",
            "_________________________________________________________________\n"
          ],
          "name": "stdout"
        }
      ]
    }
  ]
}