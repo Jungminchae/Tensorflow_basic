{
  "nbformat": 4,
  "nbformat_minor": 0,
  "metadata": {
    "colab": {
      "name": "keras-기능.ipynb",
      "provenance": []
    },
    "kernelspec": {
      "name": "python3",
      "display_name": "Python 3"
    },
    "language_info": {
      "name": "python"
    }
  },
  "cells": [
    {
      "cell_type": "code",
      "metadata": {
        "id": "9iv5tj8WkpNE"
      },
      "source": [
        "import os\n",
        "import pandas as pd\n",
        "import numpy as np \n",
        "import tensorflow as tf \n",
        "\n",
        "from tensorflow import keras \n",
        "\n",
        "from tensorflow.keras import layers, activations, optimizers, metrics, losses\n",
        "from tensorflow.keras.utils import plot_model\n",
        "\n",
        "from sklearn.preprocessing import StandardScaler, MinMaxScaler, RobustScaler, OneHotEncoder, LabelEncoder"
      ],
      "execution_count": null,
      "outputs": []
    },
    {
      "cell_type": "code",
      "metadata": {
        "colab": {
          "base_uri": "https://localhost:8080/",
          "height": 36
        },
        "id": "4v8iqqaTmFVZ",
        "outputId": "1f77df9e-edf1-413b-c155-fc3d9ea1e15f"
      },
      "source": [
        "os.getcwd()"
      ],
      "execution_count": null,
      "outputs": [
        {
          "output_type": "execute_result",
          "data": {
            "application/vnd.google.colaboratory.intrinsic+json": {
              "type": "string"
            },
            "text/plain": [
              "'/content'"
            ]
          },
          "metadata": {
            "tags": []
          },
          "execution_count": 2
        }
      ]
    },
    {
      "cell_type": "code",
      "metadata": {
        "colab": {
          "base_uri": "https://localhost:8080/"
        },
        "id": "d_E5Wv1imMTi",
        "outputId": "3c24d462-c444-4ac2-cc17-54ec41de51ba"
      },
      "source": [
        "os.listdir()"
      ],
      "execution_count": null,
      "outputs": [
        {
          "output_type": "execute_result",
          "data": {
            "text/plain": [
              "['.config',\n",
              " 'test_data.npy',\n",
              " 'train_target.npy',\n",
              " 'train_data.npy',\n",
              " 'test_target.npy',\n",
              " 'sample_data']"
            ]
          },
          "metadata": {
            "tags": []
          },
          "execution_count": 3
        }
      ]
    },
    {
      "cell_type": "code",
      "metadata": {
        "id": "I5h_Aw8GmSbr"
      },
      "source": [
        "# numpy data 불러오기\n",
        "train_data = np.load(\"train_data.npy\")\n",
        "train_target = np.load(\"/content/train_target.npy\")\n",
        "test_data = np.load(\"/content/test_data.npy\")\n",
        "test_target = np.load(\"/content/test_target.npy\")"
      ],
      "execution_count": null,
      "outputs": []
    },
    {
      "cell_type": "code",
      "metadata": {
        "colab": {
          "base_uri": "https://localhost:8080/"
        },
        "id": "YMzL_oYjmrln",
        "outputId": "6b226abd-c035-4dc6-8dd2-b8219bdff1eb"
      },
      "source": [
        "print(train_data.shape, type(train_data))"
      ],
      "execution_count": null,
      "outputs": [
        {
          "output_type": "stream",
          "text": [
            "(314, 9) <class 'numpy.ndarray'>\n"
          ],
          "name": "stdout"
        }
      ]
    },
    {
      "cell_type": "code",
      "metadata": {
        "id": "iGiIKRROmtyS"
      },
      "source": [
        "# numpy data 저장\n",
        "np.save(\"train_data_2.npy\", train_data)"
      ],
      "execution_count": null,
      "outputs": []
    },
    {
      "cell_type": "code",
      "metadata": {
        "colab": {
          "base_uri": "https://localhost:8080/"
        },
        "id": "7cFjZu5RnKlm",
        "outputId": "f64e85ef-6139-41a9-9bdb-1e4a4cc1169e"
      },
      "source": [
        "train_data.shape, train_target.shape, test_data.shape, test_target.shape"
      ],
      "execution_count": null,
      "outputs": [
        {
          "output_type": "execute_result",
          "data": {
            "text/plain": [
              "((314, 9), (314,), (78, 9), (78,))"
            ]
          },
          "metadata": {
            "tags": []
          },
          "execution_count": 10
        }
      ]
    },
    {
      "cell_type": "code",
      "metadata": {
        "id": "G6RCz_WIoT4x"
      },
      "source": [
        "x = np.array([[1,2,3,4,5,6,7,8,9]]) # 공부하는 시간 matrix\n",
        "y = np.array([[11],[22],[33],[44],[55],[66],[77],[87],[95]]) # 공부 시간에 매핑되는 성적"
      ],
      "execution_count": null,
      "outputs": []
    },
    {
      "cell_type": "code",
      "metadata": {
        "colab": {
          "base_uri": "https://localhost:8080/"
        },
        "id": "1JS_UvP8pGEB",
        "outputId": "18744f63-b3e8-4b0c-dec7-4eaf6d5c84e8"
      },
      "source": [
        "x.shape, y.shape"
      ],
      "execution_count": null,
      "outputs": [
        {
          "output_type": "execute_result",
          "data": {
            "text/plain": [
              "((1, 9), (9, 1))"
            ]
          },
          "metadata": {
            "tags": []
          },
          "execution_count": 12
        }
      ]
    },
    {
      "cell_type": "code",
      "metadata": {
        "id": "UAzAXK2cpH-f"
      },
      "source": [
        "s_scale = StandardScaler()\n",
        "m_scale = MinMaxScaler()\n",
        "r_scale = RobustScaler()"
      ],
      "execution_count": null,
      "outputs": []
    },
    {
      "cell_type": "code",
      "metadata": {
        "id": "uG7rLcePpaKA"
      },
      "source": [
        "s_scaled = s_scale.fit_transform(y)\n",
        "m_scaled = m_scale.fit_transform(y)\n",
        "r_scaled = r_scale.fit_transform(y)"
      ],
      "execution_count": null,
      "outputs": []
    },
    {
      "cell_type": "code",
      "metadata": {
        "colab": {
          "base_uri": "https://localhost:8080/"
        },
        "id": "-qh9Lgg1p9j3",
        "outputId": "2f8ce178-9ed7-49c2-cbd6-e7cc2d2d6fa9"
      },
      "source": [
        "s_scale.fit(y)\n",
        "s_scale.transform(y)"
      ],
      "execution_count": null,
      "outputs": [
        {
          "output_type": "execute_result",
          "data": {
            "text/plain": [
              "array([[-1.5740302 ],\n",
              "       [-1.17549058],\n",
              "       [-0.77695097],\n",
              "       [-0.37841135],\n",
              "       [ 0.02012826],\n",
              "       [ 0.41866788],\n",
              "       [ 0.81720749],\n",
              "       [ 1.17951623],\n",
              "       [ 1.46936323]])"
            ]
          },
          "metadata": {
            "tags": []
          },
          "execution_count": 18
        }
      ]
    },
    {
      "cell_type": "code",
      "metadata": {
        "colab": {
          "base_uri": "https://localhost:8080/"
        },
        "id": "34h6Twv2pnqr",
        "outputId": "c41ab7aa-dc8e-409a-a790-d36f2695fe0c"
      },
      "source": [
        "m_scaled"
      ],
      "execution_count": null,
      "outputs": [
        {
          "output_type": "execute_result",
          "data": {
            "text/plain": [
              "array([[0.        ],\n",
              "       [0.13095238],\n",
              "       [0.26190476],\n",
              "       [0.39285714],\n",
              "       [0.52380952],\n",
              "       [0.6547619 ],\n",
              "       [0.78571429],\n",
              "       [0.9047619 ],\n",
              "       [1.        ]])"
            ]
          },
          "metadata": {
            "tags": []
          },
          "execution_count": 17
        }
      ]
    },
    {
      "cell_type": "code",
      "metadata": {
        "id": "xHGESMp-ppEw"
      },
      "source": [
        "# one-hot\n",
        "df = pd.DataFrame()"
      ],
      "execution_count": null,
      "outputs": []
    },
    {
      "cell_type": "code",
      "metadata": {
        "id": "OpvCjsjUs9DJ"
      },
      "source": [
        "df[\"국가\"] =  [\"한국\", \"일본\", \"중국\", \"미국\", \"영국\"]"
      ],
      "execution_count": null,
      "outputs": []
    },
    {
      "cell_type": "code",
      "metadata": {
        "colab": {
          "base_uri": "https://localhost:8080/",
          "height": 206
        },
        "id": "gouu_1o8tEx0",
        "outputId": "df0abfcd-4c33-4864-84ea-246e61cf6ad0"
      },
      "source": [
        "df"
      ],
      "execution_count": null,
      "outputs": [
        {
          "output_type": "execute_result",
          "data": {
            "text/html": [
              "<div>\n",
              "<style scoped>\n",
              "    .dataframe tbody tr th:only-of-type {\n",
              "        vertical-align: middle;\n",
              "    }\n",
              "\n",
              "    .dataframe tbody tr th {\n",
              "        vertical-align: top;\n",
              "    }\n",
              "\n",
              "    .dataframe thead th {\n",
              "        text-align: right;\n",
              "    }\n",
              "</style>\n",
              "<table border=\"1\" class=\"dataframe\">\n",
              "  <thead>\n",
              "    <tr style=\"text-align: right;\">\n",
              "      <th></th>\n",
              "      <th>국가</th>\n",
              "    </tr>\n",
              "  </thead>\n",
              "  <tbody>\n",
              "    <tr>\n",
              "      <th>0</th>\n",
              "      <td>한국</td>\n",
              "    </tr>\n",
              "    <tr>\n",
              "      <th>1</th>\n",
              "      <td>일본</td>\n",
              "    </tr>\n",
              "    <tr>\n",
              "      <th>2</th>\n",
              "      <td>중국</td>\n",
              "    </tr>\n",
              "    <tr>\n",
              "      <th>3</th>\n",
              "      <td>미국</td>\n",
              "    </tr>\n",
              "    <tr>\n",
              "      <th>4</th>\n",
              "      <td>영국</td>\n",
              "    </tr>\n",
              "  </tbody>\n",
              "</table>\n",
              "</div>"
            ],
            "text/plain": [
              "   국가\n",
              "0  한국\n",
              "1  일본\n",
              "2  중국\n",
              "3  미국\n",
              "4  영국"
            ]
          },
          "metadata": {
            "tags": []
          },
          "execution_count": 26
        }
      ]
    },
    {
      "cell_type": "code",
      "metadata": {
        "colab": {
          "base_uri": "https://localhost:8080/",
          "height": 206
        },
        "id": "afWQTHe1tF2q",
        "outputId": "00ba9ec4-4bbe-4200-bad0-6680f6fb1954"
      },
      "source": [
        "one_hot_df = pd.get_dummies(df, columns=[\"국가\"])\n",
        "one_hot_df"
      ],
      "execution_count": null,
      "outputs": [
        {
          "output_type": "execute_result",
          "data": {
            "text/html": [
              "<div>\n",
              "<style scoped>\n",
              "    .dataframe tbody tr th:only-of-type {\n",
              "        vertical-align: middle;\n",
              "    }\n",
              "\n",
              "    .dataframe tbody tr th {\n",
              "        vertical-align: top;\n",
              "    }\n",
              "\n",
              "    .dataframe thead th {\n",
              "        text-align: right;\n",
              "    }\n",
              "</style>\n",
              "<table border=\"1\" class=\"dataframe\">\n",
              "  <thead>\n",
              "    <tr style=\"text-align: right;\">\n",
              "      <th></th>\n",
              "      <th>국가_미국</th>\n",
              "      <th>국가_영국</th>\n",
              "      <th>국가_일본</th>\n",
              "      <th>국가_중국</th>\n",
              "      <th>국가_한국</th>\n",
              "    </tr>\n",
              "  </thead>\n",
              "  <tbody>\n",
              "    <tr>\n",
              "      <th>0</th>\n",
              "      <td>0</td>\n",
              "      <td>0</td>\n",
              "      <td>0</td>\n",
              "      <td>0</td>\n",
              "      <td>1</td>\n",
              "    </tr>\n",
              "    <tr>\n",
              "      <th>1</th>\n",
              "      <td>0</td>\n",
              "      <td>0</td>\n",
              "      <td>1</td>\n",
              "      <td>0</td>\n",
              "      <td>0</td>\n",
              "    </tr>\n",
              "    <tr>\n",
              "      <th>2</th>\n",
              "      <td>0</td>\n",
              "      <td>0</td>\n",
              "      <td>0</td>\n",
              "      <td>1</td>\n",
              "      <td>0</td>\n",
              "    </tr>\n",
              "    <tr>\n",
              "      <th>3</th>\n",
              "      <td>1</td>\n",
              "      <td>0</td>\n",
              "      <td>0</td>\n",
              "      <td>0</td>\n",
              "      <td>0</td>\n",
              "    </tr>\n",
              "    <tr>\n",
              "      <th>4</th>\n",
              "      <td>0</td>\n",
              "      <td>1</td>\n",
              "      <td>0</td>\n",
              "      <td>0</td>\n",
              "      <td>0</td>\n",
              "    </tr>\n",
              "  </tbody>\n",
              "</table>\n",
              "</div>"
            ],
            "text/plain": [
              "   국가_미국  국가_영국  국가_일본  국가_중국  국가_한국\n",
              "0      0      0      0      0      1\n",
              "1      0      0      1      0      0\n",
              "2      0      0      0      1      0\n",
              "3      1      0      0      0      0\n",
              "4      0      1      0      0      0"
            ]
          },
          "metadata": {
            "tags": []
          },
          "execution_count": 22
        }
      ]
    },
    {
      "cell_type": "code",
      "metadata": {
        "colab": {
          "base_uri": "https://localhost:8080/"
        },
        "id": "ZW9jQvp_tZ7D",
        "outputId": "8e9faa6f-6814-41b6-fafc-cab5dca16f4f"
      },
      "source": [
        "one_hot_df.values"
      ],
      "execution_count": null,
      "outputs": [
        {
          "output_type": "execute_result",
          "data": {
            "text/plain": [
              "array([[0, 0, 0, 0, 1],\n",
              "       [0, 0, 1, 0, 0],\n",
              "       [0, 0, 0, 1, 0],\n",
              "       [1, 0, 0, 0, 0],\n",
              "       [0, 1, 0, 0, 0]], dtype=uint8)"
            ]
          },
          "metadata": {
            "tags": []
          },
          "execution_count": 23
        }
      ]
    },
    {
      "cell_type": "code",
      "metadata": {
        "colab": {
          "base_uri": "https://localhost:8080/"
        },
        "id": "Qcam9g9Ftmjl",
        "outputId": "69b6847a-cb5c-4426-81e5-a59cf6c2e329"
      },
      "source": [
        "one_hot = OneHotEncoder()\n",
        "one_hot_obj = one_hot.fit_transform(df[\"국가\"].values.reshape(-1,1))\n",
        "one_hot_arr = one_hot_obj.toarray()\n",
        "one_hot_arr"
      ],
      "execution_count": null,
      "outputs": [
        {
          "output_type": "execute_result",
          "data": {
            "text/plain": [
              "array([[0., 0., 0., 0., 1.],\n",
              "       [0., 0., 1., 0., 0.],\n",
              "       [0., 0., 0., 1., 0.],\n",
              "       [1., 0., 0., 0., 0.],\n",
              "       [0., 1., 0., 0., 0.]])"
            ]
          },
          "metadata": {
            "tags": []
          },
          "execution_count": 28
        }
      ]
    },
    {
      "cell_type": "code",
      "metadata": {
        "colab": {
          "base_uri": "https://localhost:8080/"
        },
        "id": "7xbeRqdWu9lM",
        "outputId": "709ad474-b1aa-44f4-c73a-f950502c80b9"
      },
      "source": [
        "df[\"국가\"].shape"
      ],
      "execution_count": null,
      "outputs": [
        {
          "output_type": "execute_result",
          "data": {
            "text/plain": [
              "(5,)"
            ]
          },
          "metadata": {
            "tags": []
          },
          "execution_count": 30
        }
      ]
    },
    {
      "cell_type": "code",
      "metadata": {
        "colab": {
          "base_uri": "https://localhost:8080/"
        },
        "id": "Q_G9JivKv7-t",
        "outputId": "a54fc0f4-bd04-40fd-b35f-7925e2833242"
      },
      "source": [
        "df[\"국가\"].values.reshape(1,-1).shape # -1은 전체를 나타내는 의미"
      ],
      "execution_count": null,
      "outputs": [
        {
          "output_type": "execute_result",
          "data": {
            "text/plain": [
              "(1, 5)"
            ]
          },
          "metadata": {
            "tags": []
          },
          "execution_count": 35
        }
      ]
    },
    {
      "cell_type": "code",
      "metadata": {
        "colab": {
          "base_uri": "https://localhost:8080/"
        },
        "id": "s6bKFExBwWFl",
        "outputId": "2a642a00-b24c-4329-c9fa-ca35ec1f3240"
      },
      "source": [
        "df[\"국가\"].values.reshape(1,5).shape"
      ],
      "execution_count": null,
      "outputs": [
        {
          "output_type": "execute_result",
          "data": {
            "text/plain": [
              "(1, 5)"
            ]
          },
          "metadata": {
            "tags": []
          },
          "execution_count": 37
        }
      ]
    },
    {
      "cell_type": "code",
      "metadata": {
        "colab": {
          "base_uri": "https://localhost:8080/"
        },
        "id": "ATYBhHtMuREa",
        "outputId": "e005e13d-559c-409d-e2da-757e9ea210f8"
      },
      "source": [
        "one_hot = OneHotEncoder()\n",
        "one_hot_obj = one_hot.fit_transform(df[[\"국가\"]])\n",
        "one_hot_arr = one_hot_obj.toarray()\n",
        "one_hot_arr"
      ],
      "execution_count": null,
      "outputs": [
        {
          "output_type": "execute_result",
          "data": {
            "text/plain": [
              "array([[0., 0., 0., 0., 1.],\n",
              "       [0., 0., 1., 0., 0.],\n",
              "       [0., 0., 0., 1., 0.],\n",
              "       [1., 0., 0., 0., 0.],\n",
              "       [0., 1., 0., 0., 0.]])"
            ]
          },
          "metadata": {
            "tags": []
          },
          "execution_count": 29
        }
      ]
    },
    {
      "cell_type": "code",
      "metadata": {
        "colab": {
          "base_uri": "https://localhost:8080/"
        },
        "id": "1AbXMo_ruzEx",
        "outputId": "33e26ffd-6640-4551-8bf7-5cb5ce241fec"
      },
      "source": [
        "df[[\"국가\"]].shape"
      ],
      "execution_count": null,
      "outputs": [
        {
          "output_type": "execute_result",
          "data": {
            "text/plain": [
              "(5, 1)"
            ]
          },
          "metadata": {
            "tags": []
          },
          "execution_count": 31
        }
      ]
    },
    {
      "cell_type": "code",
      "metadata": {
        "id": "9cLkoMNlvGG_"
      },
      "source": [
        "nogada_df = df.copy()\n",
        "nogada_df['한국'] = nogada_df[\"국가\"].apply(lambda x : 1 if x ==\"한국\" else 0)\n",
        "# nogaga_df['한국'] = nogada_df[\"국가\"].apply(lambda x : 1 if x ==\"한국\" else 0)\n",
        "# nogaga_df['한국'] = nogada_df[\"국가\"].apply(lambda x : 1 if x ==\"한국\" else 0)\n",
        "# nogaga_df['한국'] = nogada_df[\"국가\"].apply(lambda x : 1 if x ==\"한국\" else 0)\n",
        "# nogaga_df['한국'] = nogada_df[\"국가\"].apply(lambda x : 1 if x ==\"한국\" else 0)"
      ],
      "execution_count": null,
      "outputs": []
    },
    {
      "cell_type": "code",
      "metadata": {
        "colab": {
          "base_uri": "https://localhost:8080/",
          "height": 206
        },
        "id": "TSW3YnxOw_KN",
        "outputId": "700813c5-a550-4118-ea9f-d3be8cdfed51"
      },
      "source": [
        "nogada_df"
      ],
      "execution_count": null,
      "outputs": [
        {
          "output_type": "execute_result",
          "data": {
            "text/html": [
              "<div>\n",
              "<style scoped>\n",
              "    .dataframe tbody tr th:only-of-type {\n",
              "        vertical-align: middle;\n",
              "    }\n",
              "\n",
              "    .dataframe tbody tr th {\n",
              "        vertical-align: top;\n",
              "    }\n",
              "\n",
              "    .dataframe thead th {\n",
              "        text-align: right;\n",
              "    }\n",
              "</style>\n",
              "<table border=\"1\" class=\"dataframe\">\n",
              "  <thead>\n",
              "    <tr style=\"text-align: right;\">\n",
              "      <th></th>\n",
              "      <th>국가</th>\n",
              "      <th>한국</th>\n",
              "    </tr>\n",
              "  </thead>\n",
              "  <tbody>\n",
              "    <tr>\n",
              "      <th>0</th>\n",
              "      <td>한국</td>\n",
              "      <td>1</td>\n",
              "    </tr>\n",
              "    <tr>\n",
              "      <th>1</th>\n",
              "      <td>일본</td>\n",
              "      <td>0</td>\n",
              "    </tr>\n",
              "    <tr>\n",
              "      <th>2</th>\n",
              "      <td>중국</td>\n",
              "      <td>0</td>\n",
              "    </tr>\n",
              "    <tr>\n",
              "      <th>3</th>\n",
              "      <td>미국</td>\n",
              "      <td>0</td>\n",
              "    </tr>\n",
              "    <tr>\n",
              "      <th>4</th>\n",
              "      <td>영국</td>\n",
              "      <td>0</td>\n",
              "    </tr>\n",
              "  </tbody>\n",
              "</table>\n",
              "</div>"
            ],
            "text/plain": [
              "   국가  한국\n",
              "0  한국   1\n",
              "1  일본   0\n",
              "2  중국   0\n",
              "3  미국   0\n",
              "4  영국   0"
            ]
          },
          "metadata": {
            "tags": []
          },
          "execution_count": 40
        }
      ]
    },
    {
      "cell_type": "code",
      "metadata": {
        "colab": {
          "base_uri": "https://localhost:8080/"
        },
        "id": "oMPyxHT4xCvj",
        "outputId": "7162f1d8-3883-4b83-bd35-d3f280a73751"
      },
      "source": [
        "# label encoding\n",
        "label = LabelEncoder()\n",
        "label_arr = label.fit_transform(df[\"국가\"])\n",
        "label_arr"
      ],
      "execution_count": null,
      "outputs": [
        {
          "output_type": "stream",
          "text": [
            "/usr/local/lib/python3.7/dist-packages/sklearn/preprocessing/_label.py:251: DataConversionWarning: A column-vector y was passed when a 1d array was expected. Please change the shape of y to (n_samples, ), for example using ravel().\n",
            "  y = column_or_1d(y, warn=True)\n"
          ],
          "name": "stderr"
        },
        {
          "output_type": "execute_result",
          "data": {
            "text/plain": [
              "array([4, 2, 3, 0, 1])"
            ]
          },
          "metadata": {
            "tags": []
          },
          "execution_count": 43
        }
      ]
    },
    {
      "cell_type": "code",
      "metadata": {
        "colab": {
          "base_uri": "https://localhost:8080/"
        },
        "id": "ln_5_vRBxbFM",
        "outputId": "829a2e24-43fe-4690-e714-74fe3d8024d5"
      },
      "source": [
        "label_arr.shape"
      ],
      "execution_count": null,
      "outputs": [
        {
          "output_type": "execute_result",
          "data": {
            "text/plain": [
              "(5,)"
            ]
          },
          "metadata": {
            "tags": []
          },
          "execution_count": 42
        }
      ]
    },
    {
      "cell_type": "code",
      "metadata": {
        "colab": {
          "base_uri": "https://localhost:8080/"
        },
        "id": "ZBIVDM8EyOGX",
        "outputId": "4f221cfb-317b-42de-e775-7b6c2856fce2"
      },
      "source": [
        "df[\"국가\"].map({\"한국\": 0, \"일본\":1 ,\"중국\": 2, \"미국\":3, \"영국\":4})"
      ],
      "execution_count": null,
      "outputs": [
        {
          "output_type": "execute_result",
          "data": {
            "text/plain": [
              "0    0\n",
              "1    1\n",
              "2    2\n",
              "3    3\n",
              "4    4\n",
              "Name: 국가, dtype: int64"
            ]
          },
          "metadata": {
            "tags": []
          },
          "execution_count": 46
        }
      ]
    },
    {
      "cell_type": "code",
      "metadata": {
        "id": "sSNanVHrxoRL"
      },
      "source": [
        "import warnings"
      ],
      "execution_count": null,
      "outputs": []
    },
    {
      "cell_type": "code",
      "metadata": {
        "id": "rz1wt5bzyER2"
      },
      "source": [
        "warnings.filterwarnings(\"ignore\")"
      ],
      "execution_count": null,
      "outputs": []
    },
    {
      "cell_type": "code",
      "metadata": {
        "colab": {
          "base_uri": "https://localhost:8080/"
        },
        "id": "oYdgwhN7yIYH",
        "outputId": "c9c72be7-ecf3-4adc-c4b6-45a4451bbc5c"
      },
      "source": [
        "# sigmoid, relu, elu,\n",
        "activations.relu(x=[-1.0])"
      ],
      "execution_count": null,
      "outputs": [
        {
          "output_type": "execute_result",
          "data": {
            "text/plain": [
              "<tf.Tensor: shape=(1,), dtype=float32, numpy=array([0.], dtype=float32)>"
            ]
          },
          "metadata": {
            "tags": []
          },
          "execution_count": 48
        }
      ]
    },
    {
      "cell_type": "code",
      "metadata": {
        "colab": {
          "base_uri": "https://localhost:8080/"
        },
        "id": "23NJ5OVc0FZ5",
        "outputId": "24fe45e0-5fa3-442b-8bcc-609282497072"
      },
      "source": [
        "activations.elu(x=[-1.0])"
      ],
      "execution_count": null,
      "outputs": [
        {
          "output_type": "execute_result",
          "data": {
            "text/plain": [
              "<tf.Tensor: shape=(1,), dtype=float32, numpy=array([-0.63212055], dtype=float32)>"
            ]
          },
          "metadata": {
            "tags": []
          },
          "execution_count": 52
        }
      ]
    },
    {
      "cell_type": "code",
      "metadata": {
        "id": "6PC6XMJ5zAZn"
      },
      "source": [
        "relu = layers.Activation(\"relu\")\n",
        "elu = layers.Activation(\"elu\")\n",
        "gelu = layers.Activation(\"gelu\")\n",
        "sigmoid = layers.Activation(\"sigmoid\")\n",
        "softmax = layers.Activation(\"softmax\")"
      ],
      "execution_count": null,
      "outputs": []
    },
    {
      "cell_type": "code",
      "metadata": {
        "id": "DIM-L2iXzOL0"
      },
      "source": [
        "# Optimizer\n",
        "sgd = optimizers.SGD()\n",
        "adagrad = optimizers.Adagrad()\n",
        "adadelta = optimizers.Adadelta()\n",
        "rmsprop = optimizers.RMSprop()\n",
        "adam = optimizers.Adam()"
      ],
      "execution_count": null,
      "outputs": []
    },
    {
      "cell_type": "code",
      "metadata": {
        "id": "L4WuArQl1Wpx"
      },
      "source": [
        "# losses\n",
        "bce = losses.BinaryCrossentropy() # 이진분류 ,  y -> label encoding , 0,1\n",
        "sce = losses.SparseCategoricalCrossentropy() # 다중분류, y -> label encoding , 0,1,2,3,4 vector\n",
        "cce = losses.CategoricalCrossentropy() # 다중분류 y -> one-hot encoding "
      ],
      "execution_count": null,
      "outputs": []
    },
    {
      "cell_type": "code",
      "metadata": {
        "id": "sGX-YmE42bl7"
      },
      "source": [
        "mse = losses.MeanSquaredError()\n",
        "mae = losses.MeanAbsoluteError()"
      ],
      "execution_count": null,
      "outputs": []
    },
    {
      "cell_type": "code",
      "metadata": {
        "id": "wlPdboHi2XKb"
      },
      "source": [
        "# metric\n",
        "bce_ = metrics.BinaryCrossentropy()\n",
        "cce_ = metrics.CategoricalCrossentropy()\n",
        "rmse = metrics.RootMeanSquaredError()\n",
        "precision = metrics.Precision()"
      ],
      "execution_count": null,
      "outputs": []
    },
    {
      "cell_type": "code",
      "metadata": {
        "id": "p7i0j7n528hl"
      },
      "source": [
        "# Sequential\n",
        "# Functional\n",
        "# Subclass"
      ],
      "execution_count": null,
      "outputs": []
    },
    {
      "cell_type": "code",
      "metadata": {
        "colab": {
          "base_uri": "https://localhost:8080/"
        },
        "id": "WzWyT0I06_1c",
        "outputId": "7c926926-8035-4340-d5ec-754f83a472b1"
      },
      "source": [
        "train_data.shape"
      ],
      "execution_count": null,
      "outputs": [
        {
          "output_type": "execute_result",
          "data": {
            "text/plain": [
              "(314, 9)"
            ]
          },
          "metadata": {
            "tags": []
          },
          "execution_count": 59
        }
      ]
    },
    {
      "cell_type": "code",
      "metadata": {
        "colab": {
          "base_uri": "https://localhost:8080/"
        },
        "id": "3P9l5xGf7PmT",
        "outputId": "cf0336e0-7140-40df-e3b4-8e38878d6d37"
      },
      "source": [
        "(3,)"
      ],
      "execution_count": null,
      "outputs": [
        {
          "output_type": "execute_result",
          "data": {
            "text/plain": [
              "(3,)"
            ]
          },
          "metadata": {
            "tags": []
          },
          "execution_count": 62
        }
      ]
    },
    {
      "cell_type": "code",
      "metadata": {
        "colab": {
          "base_uri": "https://localhost:8080/"
        },
        "id": "Ten0IKCx7hGU",
        "outputId": "27f9b32e-86ae-4829-a097-0b4ea5de8c26"
      },
      "source": [
        "relu"
      ],
      "execution_count": null,
      "outputs": [
        {
          "output_type": "execute_result",
          "data": {
            "text/plain": [
              "<tensorflow.python.keras.layers.core.Activation at 0x7f2a1090a8d0>"
            ]
          },
          "metadata": {
            "tags": []
          },
          "execution_count": 63
        }
      ]
    },
    {
      "cell_type": "code",
      "metadata": {
        "id": "9adv9lc-6b3L"
      },
      "source": [
        "# Sequential\n",
        "sequential_model = keras.Sequential([\n",
        "    layers.Dense(64, kernel_initializer=\"he_normal\", input_shape=(train_data.shape[1],), activation=\"relu\"),\n",
        "    layers.Dense(64, kernel_initializer=\"he_normal\", activation=relu),\n",
        "    layers.Dense(32, kernel_initializer=\"he_normal\", activation=\"relu\"),\n",
        "    layers.Dense(1)\n",
        "])"
      ],
      "execution_count": null,
      "outputs": []
    },
    {
      "cell_type": "code",
      "metadata": {
        "colab": {
          "base_uri": "https://localhost:8080/"
        },
        "id": "pY8TsiUB7LF2",
        "outputId": "b1bddd6b-cd76-409a-c9a6-ca143b5cae66"
      },
      "source": [
        "sequential_model.summary()"
      ],
      "execution_count": null,
      "outputs": [
        {
          "output_type": "stream",
          "text": [
            "Model: \"sequential_1\"\n",
            "_________________________________________________________________\n",
            "Layer (type)                 Output Shape              Param #   \n",
            "=================================================================\n",
            "dense_3 (Dense)              (None, 64)                640       \n",
            "_________________________________________________________________\n",
            "dense_4 (Dense)              (None, 64)                4160      \n",
            "_________________________________________________________________\n",
            "dense_5 (Dense)              (None, 32)                2080      \n",
            "_________________________________________________________________\n",
            "dense_6 (Dense)              (None, 1)                 33        \n",
            "=================================================================\n",
            "Total params: 6,913\n",
            "Trainable params: 6,913\n",
            "Non-trainable params: 0\n",
            "_________________________________________________________________\n"
          ],
          "name": "stdout"
        }
      ]
    },
    {
      "cell_type": "code",
      "metadata": {
        "colab": {
          "base_uri": "https://localhost:8080/",
          "height": 86
        },
        "id": "9HikPLkB769K",
        "outputId": "083a4c78-171c-445b-993f-3a486ab5e1ce"
      },
      "source": [
        "plot_model(sequential_model, show_shapes=True, rankdir=\"LR\")"
      ],
      "execution_count": null,
      "outputs": [
        {
          "output_type": "execute_result",
          "data": {
            "image/png": "[encoded data removed]",
            "text/plain": [
              "<IPython.core.display.Image object>"
            ]
          },
          "metadata": {
            "tags": []
          },
          "execution_count": 68
        }
      ]
    },
    {
      "cell_type": "code",
      "metadata": {
        "id": "fghdknHo8ERC"
      },
      "source": [
        "# functional\n",
        "input_ = layers.Input(shape=(train_data.shape[1], ))\n",
        "x = layers.Dense(64, kernel_initializer=\"he_normal\", activation=\"relu\")(input_)\n",
        "x = layers.Dense(64, kernel_initializer=\"he_normal\", activation=\"relu\")(x)\n",
        "x = layers.Dense(32, kernel_initializer=\"he_normal\", activation=\"relu\")(x)\n",
        "output = layers.Dense(1)(x) "
      ],
      "execution_count": null,
      "outputs": []
    },
    {
      "cell_type": "code",
      "metadata": {
        "id": "7PjKhYlJ9TPU"
      },
      "source": [
        "# keras.Model에 넣어주기\n",
        "functional_model = keras.Model(input_, output)"
      ],
      "execution_count": null,
      "outputs": []
    },
    {
      "cell_type": "code",
      "metadata": {
        "colab": {
          "base_uri": "https://localhost:8080/",
          "height": 107
        },
        "id": "YEjRkVTa9uQ0",
        "outputId": "d101bf66-2d2e-4021-a28c-fe8860fe59ed"
      },
      "source": [
        "plot_model(functional_model, show_shapes=True, show_dtype=True, rankdir=\"LR\")"
      ],
      "execution_count": null,
      "outputs": [
        {
          "output_type": "execute_result",
          "data": {
            "image/png": "[encoded data removed]",
            "text/plain": [
              "<IPython.core.display.Image object>"
            ]
          },
          "metadata": {
            "tags": []
          },
          "execution_count": 72
        }
      ]
    },
    {
      "cell_type": "code",
      "metadata": {
        "colab": {
          "base_uri": "https://localhost:8080/"
        },
        "id": "DpfGM3ab9klN",
        "outputId": "0bb34af5-575c-4ffe-be24-071a3398456e"
      },
      "source": [
        "functional_model.summary()"
      ],
      "execution_count": null,
      "outputs": [
        {
          "output_type": "stream",
          "text": [
            "Model: \"model\"\n",
            "_________________________________________________________________\n",
            "Layer (type)                 Output Shape              Param #   \n",
            "=================================================================\n",
            "input_1 (InputLayer)         [(None, 9)]               0         \n",
            "_________________________________________________________________\n",
            "dense_7 (Dense)              (None, 64)                640       \n",
            "_________________________________________________________________\n",
            "dense_8 (Dense)              (None, 64)                4160      \n",
            "_________________________________________________________________\n",
            "dense_9 (Dense)              (None, 32)                2080      \n",
            "_________________________________________________________________\n",
            "dense_10 (Dense)             (None, 1)                 33        \n",
            "=================================================================\n",
            "Total params: 6,913\n",
            "Trainable params: 6,913\n",
            "Non-trainable params: 0\n",
            "_________________________________________________________________\n"
          ],
          "name": "stdout"
        }
      ]
    },
    {
      "cell_type": "code",
      "metadata": {
        "id": "4kAMgt109nb-"
      },
      "source": [
        "# sequential하지 않은 구조의 모델 만들기\n",
        "input_ = keras.layers.Input(shape=(train_data.shape[1],))\n",
        "x_1 = keras.layers.Dense(32, activation=\"relu\")(input_)\n",
        "x_2 = keras.layers.Dense(32, activation=\"relu\")(x_1)\n",
        "concat = keras.layers.Concatenate()([input_, x_2])\n",
        "output = keras.layers.Dense(1)(concat)\n",
        "functional_model_2 = keras.Model(input_, output)"
      ],
      "execution_count": null,
      "outputs": []
    },
    {
      "cell_type": "code",
      "metadata": {
        "colab": {
          "base_uri": "https://localhost:8080/"
        },
        "id": "hlG8ZmGn_Ioo",
        "outputId": "ca8e070d-cbdc-4904-df0d-55c4d776053d"
      },
      "source": [
        "functional_model_2.summary()"
      ],
      "execution_count": null,
      "outputs": [
        {
          "output_type": "stream",
          "text": [
            "Model: \"model_1\"\n",
            "__________________________________________________________________________________________________\n",
            "Layer (type)                    Output Shape         Param #     Connected to                     \n",
            "==================================================================================================\n",
            "input_2 (InputLayer)            [(None, 9)]          0                                            \n",
            "__________________________________________________________________________________________________\n",
            "dense_11 (Dense)                (None, 32)           320         input_2[0][0]                    \n",
            "__________________________________________________________________________________________________\n",
            "dense_12 (Dense)                (None, 32)           1056        dense_11[0][0]                   \n",
            "__________________________________________________________________________________________________\n",
            "concatenate (Concatenate)       (None, 41)           0           input_2[0][0]                    \n",
            "                                                                 dense_12[0][0]                   \n",
            "__________________________________________________________________________________________________\n",
            "dense_13 (Dense)                (None, 1)            42          concatenate[0][0]                \n",
            "==================================================================================================\n",
            "Total params: 1,418\n",
            "Trainable params: 1,418\n",
            "Non-trainable params: 0\n",
            "__________________________________________________________________________________________________\n"
          ],
          "name": "stdout"
        }
      ]
    },
    {
      "cell_type": "code",
      "metadata": {
        "colab": {
          "base_uri": "https://localhost:8080/",
          "height": 109
        },
        "id": "MiW0nAe9_KmL",
        "outputId": "d43caae0-1506-4df0-901a-49225b4655d8"
      },
      "source": [
        "plot_model(functional_model_2, show_shapes=True, rankdir=\"LR\")"
      ],
      "execution_count": null,
      "outputs": [
        {
          "output_type": "execute_result",
          "data": {
            "image/png": "[encoded data removed]",
            "text/plain": [
              "<IPython.core.display.Image object>"
            ]
          },
          "metadata": {
            "tags": []
          },
          "execution_count": 75
        }
      ]
    },
    {
      "cell_type": "code",
      "metadata": {
        "id": "YvChGHxq_Znh"
      },
      "source": [
        "# subclassing\n",
        "class SubclassingModel(keras.Model):\n",
        "    def __init__(self, units=32, activation=\"relu\"):\n",
        "        super().__init__()\n",
        "        self.hidden1 = keras.layers.Dense(units, activation=activation)\n",
        "        self.hidden2 = keras.layers.Dense(units, activation=activation)\n",
        "        self.output_ = keras.layers.Dense(1) # output변수명 사용 불가 -> output_\n",
        "\n",
        "    # input Layer가 필요없음\n",
        "    def call(self, inputs):\n",
        "        hidden1 = self.hidden1(inputs)\n",
        "        hidden2 = self.hidden2(hidden1)\n",
        "        output = self.output_(hidden2)\n",
        "        return output    "
      ],
      "execution_count": null,
      "outputs": []
    },
    {
      "cell_type": "code",
      "metadata": {
        "id": "yBuLoiaKColm"
      },
      "source": [
        "subclass_model = SubclassingModel(units=64, activation=\"elu\")"
      ],
      "execution_count": null,
      "outputs": []
    },
    {
      "cell_type": "code",
      "metadata": {
        "id": "hvj5S0yQCvR5"
      },
      "source": [
        "subclass_model.compile(\n",
        "    optimizer = optimizers.Adam(learning_rate=0.002), \n",
        "    loss = losses.MeanSquaredError(),\n",
        "    metrics = [ metrics.RootMeanSquaredError(), metrics.MeanAbsoluteError()]\n",
        ")"
      ],
      "execution_count": null,
      "outputs": []
    },
    {
      "cell_type": "code",
      "metadata": {
        "colab": {
          "base_uri": "https://localhost:8080/"
        },
        "id": "cgkapCaYDNN7",
        "outputId": "b0b39808-19bc-43a4-d7c5-d4a3c626a2da"
      },
      "source": [
        "subclass_model.fit(train_data, train_target, epochs=50, batch_size=128, validation_split=0.2)"
      ],
      "execution_count": null,
      "outputs": [
        {
          "output_type": "stream",
          "text": [
            "Epoch 1/50\n",
            "2/2 [==============================] - 1s 164ms/step - loss: 592.2926 - root_mean_squared_error: 24.3371 - mean_absolute_error: 23.2023 - val_loss: 609.0109 - val_root_mean_squared_error: 24.6781 - val_mean_absolute_error: 23.6360\n",
            "Epoch 2/50\n",
            "2/2 [==============================] - 0s 19ms/step - loss: 579.0772 - root_mean_squared_error: 24.0640 - mean_absolute_error: 23.0362 - val_loss: 594.2610 - val_root_mean_squared_error: 24.3775 - val_mean_absolute_error: 23.4347\n",
            "Epoch 3/50\n",
            "2/2 [==============================] - 0s 19ms/step - loss: 566.5195 - root_mean_squared_error: 23.8017 - mean_absolute_error: 22.8705 - val_loss: 579.3073 - val_root_mean_squared_error: 24.0688 - val_mean_absolute_error: 23.2216\n",
            "Epoch 4/50\n",
            "2/2 [==============================] - 0s 19ms/step - loss: 554.0989 - root_mean_squared_error: 23.5393 - mean_absolute_error: 22.6992 - val_loss: 563.8412 - val_root_mean_squared_error: 23.7453 - val_mean_absolute_error: 22.9908\n",
            "Epoch 5/50\n",
            "2/2 [==============================] - 0s 21ms/step - loss: 540.0602 - root_mean_squared_error: 23.2392 - mean_absolute_error: 22.4825 - val_loss: 547.8269 - val_root_mean_squared_error: 23.4057 - val_mean_absolute_error: 22.7326\n",
            "Epoch 6/50\n",
            "2/2 [==============================] - 0s 19ms/step - loss: 525.9340 - root_mean_squared_error: 22.9333 - mean_absolute_error: 22.2523 - val_loss: 530.7585 - val_root_mean_squared_error: 23.0382 - val_mean_absolute_error: 22.4426\n",
            "Epoch 7/50\n",
            "2/2 [==============================] - 0s 25ms/step - loss: 510.4778 - root_mean_squared_error: 22.5938 - mean_absolute_error: 21.9872 - val_loss: 512.3643 - val_root_mean_squared_error: 22.6355 - val_mean_absolute_error: 22.1114\n",
            "Epoch 8/50\n",
            "2/2 [==============================] - 0s 19ms/step - loss: 494.3739 - root_mean_squared_error: 22.2345 - mean_absolute_error: 21.6896 - val_loss: 492.4450 - val_root_mean_squared_error: 22.1911 - val_mean_absolute_error: 21.7330\n",
            "Epoch 9/50\n",
            "2/2 [==============================] - 0s 19ms/step - loss: 475.8939 - root_mean_squared_error: 21.8150 - mean_absolute_error: 21.3302 - val_loss: 471.0168 - val_root_mean_squared_error: 21.7029 - val_mean_absolute_error: 21.3018\n",
            "Epoch 10/50\n",
            "2/2 [==============================] - 0s 20ms/step - loss: 455.5296 - root_mean_squared_error: 21.3431 - mean_absolute_error: 20.9098 - val_loss: 448.1505 - val_root_mean_squared_error: 21.1696 - val_mean_absolute_error: 20.8138\n",
            "Epoch 11/50\n",
            "2/2 [==============================] - 0s 21ms/step - loss: 435.5646 - root_mean_squared_error: 20.8702 - mean_absolute_error: 20.4790 - val_loss: 423.5412 - val_root_mean_squared_error: 20.5801 - val_mean_absolute_error: 20.2607\n",
            "Epoch 12/50\n",
            "2/2 [==============================] - 0s 20ms/step - loss: 412.2449 - root_mean_squared_error: 20.3038 - mean_absolute_error: 19.9474 - val_loss: 397.4821 - val_root_mean_squared_error: 19.9370 - val_mean_absolute_error: 19.6398\n",
            "Epoch 13/50\n",
            "2/2 [==============================] - 0s 40ms/step - loss: 388.8617 - root_mean_squared_error: 19.7196 - mean_absolute_error: 19.3805 - val_loss: 369.7393 - val_root_mean_squared_error: 19.2286 - val_mean_absolute_error: 18.9378\n",
            "Epoch 14/50\n",
            "2/2 [==============================] - 0s 21ms/step - loss: 363.3569 - root_mean_squared_error: 19.0619 - mean_absolute_error: 18.7214 - val_loss: 340.7633 - val_root_mean_squared_error: 18.4598 - val_mean_absolute_error: 18.1550\n",
            "Epoch 15/50\n",
            "2/2 [==============================] - 0s 19ms/step - loss: 337.2186 - root_mean_squared_error: 18.3635 - mean_absolute_error: 18.0058 - val_loss: 310.9184 - val_root_mean_squared_error: 17.6329 - val_mean_absolute_error: 17.2893\n",
            "Epoch 16/50\n",
            "2/2 [==============================] - 0s 20ms/step - loss: 309.5001 - root_mean_squared_error: 17.5926 - mean_absolute_error: 17.1889 - val_loss: 280.8251 - val_root_mean_squared_error: 16.7578 - val_mean_absolute_error: 16.3461\n",
            "Epoch 17/50\n",
            "2/2 [==============================] - 0s 19ms/step - loss: 282.8642 - root_mean_squared_error: 16.8186 - mean_absolute_error: 16.3533 - val_loss: 250.9311 - val_root_mean_squared_error: 15.8408 - val_mean_absolute_error: 15.3166\n",
            "Epoch 18/50\n",
            "2/2 [==============================] - 0s 19ms/step - loss: 254.7639 - root_mean_squared_error: 15.9613 - mean_absolute_error: 15.3778 - val_loss: 222.4089 - val_root_mean_squared_error: 14.9134 - val_mean_absolute_error: 14.2341\n",
            "Epoch 19/50\n",
            "2/2 [==============================] - 0s 18ms/step - loss: 228.5715 - root_mean_squared_error: 15.1186 - mean_absolute_error: 14.3826 - val_loss: 195.6008 - val_root_mean_squared_error: 13.9857 - val_mean_absolute_error: 13.0909\n",
            "Epoch 20/50\n",
            "2/2 [==============================] - 0s 18ms/step - loss: 203.4077 - root_mean_squared_error: 14.2621 - mean_absolute_error: 13.3439 - val_loss: 171.3221 - val_root_mean_squared_error: 13.0890 - val_mean_absolute_error: 11.9790\n",
            "Epoch 21/50\n",
            "2/2 [==============================] - 0s 18ms/step - loss: 180.3605 - root_mean_squared_error: 13.4298 - mean_absolute_error: 12.3041 - val_loss: 150.0560 - val_root_mean_squared_error: 12.2497 - val_mean_absolute_error: 10.9358\n",
            "Epoch 22/50\n",
            "2/2 [==============================] - 0s 19ms/step - loss: 160.1097 - root_mean_squared_error: 12.6534 - mean_absolute_error: 11.3380 - val_loss: 132.1438 - val_root_mean_squared_error: 11.4954 - val_mean_absolute_error: 10.0823\n",
            "Epoch 23/50\n",
            "2/2 [==============================] - 0s 17ms/step - loss: 142.2242 - root_mean_squared_error: 11.9258 - mean_absolute_error: 10.4309 - val_loss: 117.4389 - val_root_mean_squared_error: 10.8369 - val_mean_absolute_error: 9.4263\n",
            "Epoch 24/50\n",
            "2/2 [==============================] - 0s 18ms/step - loss: 126.5649 - root_mean_squared_error: 11.2501 - mean_absolute_error: 9.7222 - val_loss: 105.5697 - val_root_mean_squared_error: 10.2747 - val_mean_absolute_error: 8.8935\n",
            "Epoch 25/50\n",
            "2/2 [==============================] - 0s 22ms/step - loss: 113.2156 - root_mean_squared_error: 10.6403 - mean_absolute_error: 9.0681 - val_loss: 95.4649 - val_root_mean_squared_error: 9.7706 - val_mean_absolute_error: 8.4216\n",
            "Epoch 26/50\n",
            "2/2 [==============================] - 0s 19ms/step - loss: 100.9934 - root_mean_squared_error: 10.0495 - mean_absolute_error: 8.5166 - val_loss: 86.4143 - val_root_mean_squared_error: 9.2959 - val_mean_absolute_error: 7.9770\n",
            "Epoch 27/50\n",
            "2/2 [==============================] - 0s 19ms/step - loss: 89.5776 - root_mean_squared_error: 9.4645 - mean_absolute_error: 7.9852 - val_loss: 77.9647 - val_root_mean_squared_error: 8.8298 - val_mean_absolute_error: 7.5331\n",
            "Epoch 28/50\n",
            "2/2 [==============================] - 0s 18ms/step - loss: 79.3143 - root_mean_squared_error: 8.9059 - mean_absolute_error: 7.4986 - val_loss: 70.0409 - val_root_mean_squared_error: 8.3690 - val_mean_absolute_error: 7.0984\n",
            "Epoch 29/50\n",
            "2/2 [==============================] - 0s 23ms/step - loss: 69.7529 - root_mean_squared_error: 8.3518 - mean_absolute_error: 6.9835 - val_loss: 62.8510 - val_root_mean_squared_error: 7.9279 - val_mean_absolute_error: 6.6719\n",
            "Epoch 30/50\n",
            "2/2 [==============================] - 0s 22ms/step - loss: 61.7144 - root_mean_squared_error: 7.8558 - mean_absolute_error: 6.4927 - val_loss: 56.5890 - val_root_mean_squared_error: 7.5226 - val_mean_absolute_error: 6.2461\n",
            "Epoch 31/50\n",
            "2/2 [==============================] - 0s 21ms/step - loss: 54.4593 - root_mean_squared_error: 7.3797 - mean_absolute_error: 6.0299 - val_loss: 51.0269 - val_root_mean_squared_error: 7.1433 - val_mean_absolute_error: 5.8272\n",
            "Epoch 32/50\n",
            "2/2 [==============================] - 0s 20ms/step - loss: 48.1559 - root_mean_squared_error: 6.9394 - mean_absolute_error: 5.5843 - val_loss: 46.0964 - val_root_mean_squared_error: 6.7894 - val_mean_absolute_error: 5.4442\n",
            "Epoch 33/50\n",
            "2/2 [==============================] - 0s 20ms/step - loss: 42.4990 - root_mean_squared_error: 6.5191 - mean_absolute_error: 5.1990 - val_loss: 41.7388 - val_root_mean_squared_error: 6.4606 - val_mean_absolute_error: 5.1525\n",
            "Epoch 34/50\n",
            "2/2 [==============================] - 0s 20ms/step - loss: 37.5405 - root_mean_squared_error: 6.1270 - mean_absolute_error: 4.8657 - val_loss: 38.1671 - val_root_mean_squared_error: 6.1780 - val_mean_absolute_error: 4.9607\n",
            "Epoch 35/50\n",
            "2/2 [==============================] - 0s 19ms/step - loss: 33.3698 - root_mean_squared_error: 5.7767 - mean_absolute_error: 4.5788 - val_loss: 35.4962 - val_root_mean_squared_error: 5.9579 - val_mean_absolute_error: 4.7994\n",
            "Epoch 36/50\n",
            "2/2 [==============================] - 0s 20ms/step - loss: 30.5397 - root_mean_squared_error: 5.5263 - mean_absolute_error: 4.3613 - val_loss: 33.5988 - val_root_mean_squared_error: 5.7964 - val_mean_absolute_error: 4.7002\n",
            "Epoch 37/50\n",
            "2/2 [==============================] - 0s 20ms/step - loss: 28.1010 - root_mean_squared_error: 5.3010 - mean_absolute_error: 4.2244 - val_loss: 32.3818 - val_root_mean_squared_error: 5.6905 - val_mean_absolute_error: 4.6254\n",
            "Epoch 38/50\n",
            "2/2 [==============================] - 0s 19ms/step - loss: 26.6645 - root_mean_squared_error: 5.1638 - mean_absolute_error: 4.1643 - val_loss: 31.5329 - val_root_mean_squared_error: 5.6154 - val_mean_absolute_error: 4.5653\n",
            "Epoch 39/50\n",
            "2/2 [==============================] - 0s 26ms/step - loss: 25.6456 - root_mean_squared_error: 5.0642 - mean_absolute_error: 4.1051 - val_loss: 30.8151 - val_root_mean_squared_error: 5.5511 - val_mean_absolute_error: 4.4974\n",
            "Epoch 40/50\n",
            "2/2 [==============================] - 0s 21ms/step - loss: 24.7786 - root_mean_squared_error: 4.9778 - mean_absolute_error: 4.0438 - val_loss: 29.9574 - val_root_mean_squared_error: 5.4733 - val_mean_absolute_error: 4.4095\n",
            "Epoch 41/50\n",
            "2/2 [==============================] - 0s 22ms/step - loss: 23.8466 - root_mean_squared_error: 4.8833 - mean_absolute_error: 3.9677 - val_loss: 28.8514 - val_root_mean_squared_error: 5.3713 - val_mean_absolute_error: 4.3337\n",
            "Epoch 42/50\n",
            "2/2 [==============================] - 0s 26ms/step - loss: 22.8249 - root_mean_squared_error: 4.7775 - mean_absolute_error: 3.8652 - val_loss: 27.5204 - val_root_mean_squared_error: 5.2460 - val_mean_absolute_error: 4.2366\n",
            "Epoch 43/50\n",
            "2/2 [==============================] - 0s 24ms/step - loss: 21.7797 - root_mean_squared_error: 4.6669 - mean_absolute_error: 3.7600 - val_loss: 25.9418 - val_root_mean_squared_error: 5.0933 - val_mean_absolute_error: 4.1275\n",
            "Epoch 44/50\n",
            "2/2 [==============================] - 0s 20ms/step - loss: 20.4669 - root_mean_squared_error: 4.5240 - mean_absolute_error: 3.6378 - val_loss: 24.2726 - val_root_mean_squared_error: 4.9267 - val_mean_absolute_error: 4.0039\n",
            "Epoch 45/50\n",
            "2/2 [==============================] - 0s 21ms/step - loss: 19.3149 - root_mean_squared_error: 4.3949 - mean_absolute_error: 3.5150 - val_loss: 22.5338 - val_root_mean_squared_error: 4.7470 - val_mean_absolute_error: 3.8649\n",
            "Epoch 46/50\n",
            "2/2 [==============================] - 0s 19ms/step - loss: 17.9386 - root_mean_squared_error: 4.2354 - mean_absolute_error: 3.3869 - val_loss: 20.9556 - val_root_mean_squared_error: 4.5777 - val_mean_absolute_error: 3.7279\n",
            "Epoch 47/50\n",
            "2/2 [==============================] - 0s 19ms/step - loss: 16.7609 - root_mean_squared_error: 4.0940 - mean_absolute_error: 3.2670 - val_loss: 19.5268 - val_root_mean_squared_error: 4.4189 - val_mean_absolute_error: 3.5941\n",
            "Epoch 48/50\n",
            "2/2 [==============================] - 0s 19ms/step - loss: 15.7138 - root_mean_squared_error: 3.9641 - mean_absolute_error: 3.1580 - val_loss: 18.3043 - val_root_mean_squared_error: 4.2784 - val_mean_absolute_error: 3.4842\n",
            "Epoch 49/50\n",
            "2/2 [==============================] - 0s 22ms/step - loss: 14.8741 - root_mean_squared_error: 3.8567 - mean_absolute_error: 3.0628 - val_loss: 17.2545 - val_root_mean_squared_error: 4.1539 - val_mean_absolute_error: 3.3854\n",
            "Epoch 50/50\n",
            "2/2 [==============================] - 0s 23ms/step - loss: 14.1160 - root_mean_squared_error: 3.7571 - mean_absolute_error: 2.9699 - val_loss: 16.3869 - val_root_mean_squared_error: 4.0481 - val_mean_absolute_error: 3.3025\n"
          ],
          "name": "stdout"
        },
        {
          "output_type": "execute_result",
          "data": {
            "text/plain": [
              "<tensorflow.python.keras.callbacks.History at 0x7f2a0fedb510>"
            ]
          },
          "metadata": {
            "tags": []
          },
          "execution_count": 80
        }
      ]
    },
    {
      "cell_type": "code",
      "metadata": {
        "colab": {
          "base_uri": "https://localhost:8080/",
          "height": 77
        },
        "id": "8Bv_SD_3DjP3",
        "outputId": "bdc313dc-d666-451a-e64b-4ef6a1956108"
      },
      "source": [
        "# subclass는 plot_model 안됨\n",
        "plot_model(subclass_model, rankdir=\"LR\")"
      ],
      "execution_count": null,
      "outputs": [
        {
          "output_type": "execute_result",
          "data": {
            "image/png": "[encoded data removed]",
            "text/plain": [
              "<IPython.core.display.Image object>"
            ]
          },
          "metadata": {
            "tags": []
          },
          "execution_count": 81
        }
      ]
    },
    {
      "cell_type": "code",
      "metadata": {
        "colab": {
          "base_uri": "https://localhost:8080/"
        },
        "id": "ytOKczBSEydM",
        "outputId": "2864342f-461a-4994-e3d1-d4a229de60c8"
      },
      "source": [
        "subclass_model.summary()"
      ],
      "execution_count": null,
      "outputs": [
        {
          "output_type": "stream",
          "text": [
            "Model: \"subclassing_model\"\n",
            "_________________________________________________________________\n",
            "Layer (type)                 Output Shape              Param #   \n",
            "=================================================================\n",
            "dense_14 (Dense)             multiple                  640       \n",
            "_________________________________________________________________\n",
            "dense_15 (Dense)             multiple                  4160      \n",
            "_________________________________________________________________\n",
            "dense_16 (Dense)             multiple                  65        \n",
            "=================================================================\n",
            "Total params: 4,865\n",
            "Trainable params: 4,865\n",
            "Non-trainable params: 0\n",
            "_________________________________________________________________\n"
          ],
          "name": "stdout"
        }
      ]
    },
    {
      "cell_type": "code",
      "metadata": {
        "id": "R_eEdoc8E5hd"
      },
      "source": [
        "subclass_model_2 = SubclassingModel(units=64, activation=\"elu\")"
      ],
      "execution_count": null,
      "outputs": []
    },
    {
      "cell_type": "code",
      "metadata": {
        "id": "pCFzqb2bE-k6",
        "colab": {
          "base_uri": "https://localhost:8080/",
          "height": 351
        },
        "outputId": "9834f3ee-3815-4189-ef76-6e0b0cbb21d7"
      },
      "source": [
        "# build가 안되어서 summary불가\n",
        "subclass_model_2.summary()"
      ],
      "execution_count": null,
      "outputs": [
        {
          "output_type": "error",
          "ename": "ValueError",
          "evalue": "ignored",
          "traceback": [
            "\u001b[0;31m---------------------------------------------------------------------------\u001b[0m",
            "\u001b[0;31mValueError\u001b[0m                                Traceback (most recent call last)",
            "\u001b[0;32m<ipython-input-84-bcf26f4f9d57>\u001b[0m in \u001b[0;36m<module>\u001b[0;34m()\u001b[0m\n\u001b[0;32m----> 1\u001b[0;31m \u001b[0msubclass_model_2\u001b[0m\u001b[0;34m.\u001b[0m\u001b[0msummary\u001b[0m\u001b[0;34m(\u001b[0m\u001b[0;34m)\u001b[0m\u001b[0;34m\u001b[0m\u001b[0;34m\u001b[0m\u001b[0m\n\u001b[0m",
            "\u001b[0;32m/usr/local/lib/python3.7/dist-packages/tensorflow/python/keras/engine/training.py\u001b[0m in \u001b[0;36msummary\u001b[0;34m(self, line_length, positions, print_fn)\u001b[0m\n\u001b[1;32m   2475\u001b[0m     \"\"\"\n\u001b[1;32m   2476\u001b[0m     \u001b[0;32mif\u001b[0m \u001b[0;32mnot\u001b[0m \u001b[0mself\u001b[0m\u001b[0;34m.\u001b[0m\u001b[0mbuilt\u001b[0m\u001b[0;34m:\u001b[0m\u001b[0;34m\u001b[0m\u001b[0;34m\u001b[0m\u001b[0m\n\u001b[0;32m-> 2477\u001b[0;31m       raise ValueError('This model has not yet been built. '\n\u001b[0m\u001b[1;32m   2478\u001b[0m                        \u001b[0;34m'Build the model first by calling `build()` or calling '\u001b[0m\u001b[0;34m\u001b[0m\u001b[0;34m\u001b[0m\u001b[0m\n\u001b[1;32m   2479\u001b[0m                        \u001b[0;34m'`fit()` with some data, or specify '\u001b[0m\u001b[0;34m\u001b[0m\u001b[0;34m\u001b[0m\u001b[0m\n",
            "\u001b[0;31mValueError\u001b[0m: This model has not yet been built. Build the model first by calling `build()` or calling `fit()` with some data, or specify an `input_shape` argument in the first layer(s) for automatic build."
          ]
        }
      ]
    },
    {
      "cell_type": "code",
      "metadata": {
        "id": "QGDlBlWQFAN8"
      },
      "source": [
        ""
      ],
      "execution_count": null,
      "outputs": []
    }
  ]
}