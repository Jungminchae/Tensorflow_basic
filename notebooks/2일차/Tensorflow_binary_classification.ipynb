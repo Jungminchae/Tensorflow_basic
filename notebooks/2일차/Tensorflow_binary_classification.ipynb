{
  "nbformat": 4,
  "nbformat_minor": 0,
  "metadata": {
    "colab": {
      "name": "binary_classification.ipynb",
      "provenance": []
    },
    "kernelspec": {
      "name": "python3",
      "display_name": "Python 3"
    },
    "language_info": {
      "name": "python"
    },
    "accelerator": "GPU"
  },
  "cells": [
    {
      "cell_type": "code",
      "metadata": {
        "id": "AYoEFvZceFz2"
      },
      "source": [
        "import numpy as np \n",
        "import pandas as pd\n",
        "import tensorflow as tf\n",
        "from tensorflow import keras\n",
        "from tensorflow.keras import layers"
      ],
      "execution_count": null,
      "outputs": []
    },
    {
      "cell_type": "markdown",
      "metadata": {
        "id": "I_DqCcJTe3zi"
      },
      "source": [
        "<img width=\"731\" alt=\"스크린샷 2021-08-10 오후 4 22 45\" src=\"https://user-images.githubusercontent.com/60789129/128825601-cb81e837-ee92-4a5d-a356-1a2f9bd5e3d6.png\">"
      ]
    },
    {
      "cell_type": "code",
      "metadata": {
        "id": "PbNGc2pae2AU"
      },
      "source": [
        "file_url = \"http://storage.googleapis.com/download.tensorflow.org/data/heart.csv\"\n",
        "df = pd.read_csv(file_url)"
      ],
      "execution_count": null,
      "outputs": []
    },
    {
      "cell_type": "code",
      "metadata": {
        "colab": {
          "base_uri": "https://localhost:8080/",
          "height": 112
        },
        "id": "_IM0i0rXfkdZ",
        "outputId": "61c3b80e-5e08-4daa-9f1b-b3d28f28ef1b"
      },
      "source": [
        "df.head(2)"
      ],
      "execution_count": null,
      "outputs": [
        {
          "output_type": "execute_result",
          "data": {
            "text/html": [
              "<div>\n",
              "<style scoped>\n",
              "    .dataframe tbody tr th:only-of-type {\n",
              "        vertical-align: middle;\n",
              "    }\n",
              "\n",
              "    .dataframe tbody tr th {\n",
              "        vertical-align: top;\n",
              "    }\n",
              "\n",
              "    .dataframe thead th {\n",
              "        text-align: right;\n",
              "    }\n",
              "</style>\n",
              "<table border=\"1\" class=\"dataframe\">\n",
              "  <thead>\n",
              "    <tr style=\"text-align: right;\">\n",
              "      <th></th>\n",
              "      <th>age</th>\n",
              "      <th>sex</th>\n",
              "      <th>cp</th>\n",
              "      <th>trestbps</th>\n",
              "      <th>chol</th>\n",
              "      <th>fbs</th>\n",
              "      <th>restecg</th>\n",
              "      <th>thalach</th>\n",
              "      <th>exang</th>\n",
              "      <th>oldpeak</th>\n",
              "      <th>slope</th>\n",
              "      <th>ca</th>\n",
              "      <th>thal</th>\n",
              "      <th>target</th>\n",
              "    </tr>\n",
              "  </thead>\n",
              "  <tbody>\n",
              "    <tr>\n",
              "      <th>0</th>\n",
              "      <td>63</td>\n",
              "      <td>1</td>\n",
              "      <td>1</td>\n",
              "      <td>145</td>\n",
              "      <td>233</td>\n",
              "      <td>1</td>\n",
              "      <td>2</td>\n",
              "      <td>150</td>\n",
              "      <td>0</td>\n",
              "      <td>2.3</td>\n",
              "      <td>3</td>\n",
              "      <td>0</td>\n",
              "      <td>fixed</td>\n",
              "      <td>0</td>\n",
              "    </tr>\n",
              "    <tr>\n",
              "      <th>1</th>\n",
              "      <td>67</td>\n",
              "      <td>1</td>\n",
              "      <td>4</td>\n",
              "      <td>160</td>\n",
              "      <td>286</td>\n",
              "      <td>0</td>\n",
              "      <td>2</td>\n",
              "      <td>108</td>\n",
              "      <td>1</td>\n",
              "      <td>1.5</td>\n",
              "      <td>2</td>\n",
              "      <td>3</td>\n",
              "      <td>normal</td>\n",
              "      <td>1</td>\n",
              "    </tr>\n",
              "  </tbody>\n",
              "</table>\n",
              "</div>"
            ],
            "text/plain": [
              "   age  sex  cp  trestbps  chol  fbs  ...  exang  oldpeak  slope  ca    thal  target\n",
              "0   63    1   1       145   233    1  ...      0      2.3      3   0   fixed       0\n",
              "1   67    1   4       160   286    0  ...      1      1.5      2   3  normal       1\n",
              "\n",
              "[2 rows x 14 columns]"
            ]
          },
          "metadata": {
            "tags": []
          },
          "execution_count": 3
        }
      ]
    },
    {
      "cell_type": "code",
      "metadata": {
        "colab": {
          "base_uri": "https://localhost:8080/"
        },
        "id": "Ud39e_2Wfoba",
        "outputId": "27f5af51-bb4b-44fc-8001-e3014c039f4e"
      },
      "source": [
        "df.shape"
      ],
      "execution_count": null,
      "outputs": [
        {
          "output_type": "execute_result",
          "data": {
            "text/plain": [
              "(303, 14)"
            ]
          },
          "metadata": {
            "tags": []
          },
          "execution_count": 4
        }
      ]
    },
    {
      "cell_type": "code",
      "metadata": {
        "colab": {
          "base_uri": "https://localhost:8080/"
        },
        "id": "1oPzSBfRfw73",
        "outputId": "8b9b86ea-83ef-4e30-b887-127d02342a81"
      },
      "source": [
        "df.info()"
      ],
      "execution_count": null,
      "outputs": [
        {
          "output_type": "stream",
          "text": [
            "<class 'pandas.core.frame.DataFrame'>\n",
            "RangeIndex: 303 entries, 0 to 302\n",
            "Data columns (total 14 columns):\n",
            " #   Column    Non-Null Count  Dtype  \n",
            "---  ------    --------------  -----  \n",
            " 0   age       303 non-null    int64  \n",
            " 1   sex       303 non-null    int64  \n",
            " 2   cp        303 non-null    int64  \n",
            " 3   trestbps  303 non-null    int64  \n",
            " 4   chol      303 non-null    int64  \n",
            " 5   fbs       303 non-null    int64  \n",
            " 6   restecg   303 non-null    int64  \n",
            " 7   thalach   303 non-null    int64  \n",
            " 8   exang     303 non-null    int64  \n",
            " 9   oldpeak   303 non-null    float64\n",
            " 10  slope     303 non-null    int64  \n",
            " 11  ca        303 non-null    int64  \n",
            " 12  thal      303 non-null    object \n",
            " 13  target    303 non-null    int64  \n",
            "dtypes: float64(1), int64(12), object(1)\n",
            "memory usage: 33.3+ KB\n"
          ],
          "name": "stdout"
        }
      ]
    },
    {
      "cell_type": "code",
      "metadata": {
        "colab": {
          "base_uri": "https://localhost:8080/"
        },
        "id": "MdnlALPif3Et",
        "outputId": "5a8488b7-cccc-4c85-f3fe-3b361a542cd5"
      },
      "source": [
        "df.isna().sum()"
      ],
      "execution_count": null,
      "outputs": [
        {
          "output_type": "execute_result",
          "data": {
            "text/plain": [
              "age         0\n",
              "sex         0\n",
              "cp          0\n",
              "trestbps    0\n",
              "chol        0\n",
              "fbs         0\n",
              "restecg     0\n",
              "thalach     0\n",
              "exang       0\n",
              "oldpeak     0\n",
              "slope       0\n",
              "ca          0\n",
              "thal        0\n",
              "target      0\n",
              "dtype: int64"
            ]
          },
          "metadata": {
            "tags": []
          },
          "execution_count": 6
        }
      ]
    },
    {
      "cell_type": "code",
      "metadata": {
        "id": "hDkL2CnugL6Y"
      },
      "source": [
        "# 데이터 분리\n",
        "val_df = df.sample(frac=0.2, random_state=123)\n",
        "train_df = df.drop(val_df.index)"
      ],
      "execution_count": null,
      "outputs": []
    },
    {
      "cell_type": "code",
      "metadata": {
        "colab": {
          "base_uri": "https://localhost:8080/"
        },
        "id": "qyKcPUhpgli4",
        "outputId": "a8e4a3e8-bdd3-450f-cab0-ce93970e889f"
      },
      "source": [
        "print(f\"val_df shape : {val_df.shape} , train_df shape : {train_df.shape} \")"
      ],
      "execution_count": null,
      "outputs": [
        {
          "output_type": "stream",
          "text": [
            "val_df shape : (61, 14) , train_df shape : (242, 14) \n"
          ],
          "name": "stdout"
        }
      ]
    },
    {
      "cell_type": "code",
      "metadata": {
        "id": "D8Zhh63Xgzi0"
      },
      "source": [
        "np.random.seed(123)"
      ],
      "execution_count": null,
      "outputs": []
    },
    {
      "cell_type": "code",
      "metadata": {
        "id": "L9dL5LNchSZ_"
      },
      "source": [
        "val_label = val_df.pop(\"target\")\n",
        "train_label = train_df.pop(\"target\")"
      ],
      "execution_count": null,
      "outputs": []
    },
    {
      "cell_type": "code",
      "metadata": {
        "id": "tB6sZ6xFh7qv"
      },
      "source": [
        "from sklearn.model_selection import train_test_split"
      ],
      "execution_count": null,
      "outputs": []
    },
    {
      "cell_type": "code",
      "metadata": {
        "id": "dof1oPxihnI_"
      },
      "source": [
        "# sklearn 데이터셋 분리 방법\n",
        "x_train, x_val, y_train, y_val = train_test_split(df.drop(\"target\", axis=1), df[\"target\"], stratify=df[\"target\"], test_size=0.2, random_state=123)"
      ],
      "execution_count": null,
      "outputs": []
    },
    {
      "cell_type": "code",
      "metadata": {
        "colab": {
          "base_uri": "https://localhost:8080/"
        },
        "id": "d2jErjWLi_BZ",
        "outputId": "a7716603-884d-409a-b904-aa8fa782514b"
      },
      "source": [
        "x_train.shape, y_train.shape"
      ],
      "execution_count": null,
      "outputs": [
        {
          "output_type": "execute_result",
          "data": {
            "text/plain": [
              "((242, 13), (242,))"
            ]
          },
          "metadata": {
            "tags": []
          },
          "execution_count": 13
        }
      ]
    },
    {
      "cell_type": "code",
      "metadata": {
        "colab": {
          "base_uri": "https://localhost:8080/"
        },
        "id": "69zswHmajCIl",
        "outputId": "0d5bfcf4-084f-404d-98dc-08474f041240"
      },
      "source": [
        "# 범주형, 연속형 변수 구분\n",
        "for col in x_train.columns:\n",
        "    print(f\"{col} : unique num {x_train[col].nunique()} \")\n",
        "    print() "
      ],
      "execution_count": null,
      "outputs": [
        {
          "output_type": "stream",
          "text": [
            "age : unique num 37 \n",
            "\n",
            "sex : unique num 2 \n",
            "\n",
            "cp : unique num 5 \n",
            "\n",
            "trestbps : unique num 46 \n",
            "\n",
            "chol : unique num 138 \n",
            "\n",
            "fbs : unique num 2 \n",
            "\n",
            "restecg : unique num 3 \n",
            "\n",
            "thalach : unique num 85 \n",
            "\n",
            "exang : unique num 2 \n",
            "\n",
            "oldpeak : unique num 36 \n",
            "\n",
            "slope : unique num 3 \n",
            "\n",
            "ca : unique num 4 \n",
            "\n",
            "thal : unique num 5 \n",
            "\n"
          ],
          "name": "stdout"
        }
      ]
    },
    {
      "cell_type": "code",
      "metadata": {
        "colab": {
          "base_uri": "https://localhost:8080/"
        },
        "id": "Ljt8N-DxjpPU",
        "outputId": "f26007cd-4bf7-4fae-aa1a-d7ac9fc5ec9d"
      },
      "source": [
        "cat_col = \"sex cp fbs restecg exang slope ca thal\".split(\" \")\n",
        "cat_col "
      ],
      "execution_count": null,
      "outputs": [
        {
          "output_type": "execute_result",
          "data": {
            "text/plain": [
              "['sex', 'cp', 'fbs', 'restecg', 'exang', 'slope', 'ca', 'thal']"
            ]
          },
          "metadata": {
            "tags": []
          },
          "execution_count": 15
        }
      ]
    },
    {
      "cell_type": "code",
      "metadata": {
        "id": "caq6o95JkG4v"
      },
      "source": [
        "con_col = list(set(x_train.columns) - set(cat_col))"
      ],
      "execution_count": null,
      "outputs": []
    },
    {
      "cell_type": "code",
      "metadata": {
        "id": "VFiD-9fjkA_K"
      },
      "source": [
        "from sklearn.preprocessing import OneHotEncoder"
      ],
      "execution_count": null,
      "outputs": []
    },
    {
      "cell_type": "code",
      "metadata": {
        "id": "NVntE7-6kiZ-"
      },
      "source": [
        "one_hot = OneHotEncoder()\n",
        "one_hot_encoded = one_hot.fit_transform(x_train[cat_col])"
      ],
      "execution_count": null,
      "outputs": []
    },
    {
      "cell_type": "code",
      "metadata": {
        "colab": {
          "base_uri": "https://localhost:8080/"
        },
        "id": "UEqJIcdZqaNN",
        "outputId": "523361eb-f8aa-4953-b689-db75e439b2bf"
      },
      "source": [
        "one_hot_encoded.toarray()"
      ],
      "execution_count": null,
      "outputs": [
        {
          "output_type": "execute_result",
          "data": {
            "text/plain": [
              "array([[0., 1., 0., ..., 0., 1., 0.],\n",
              "       [0., 1., 0., ..., 0., 1., 0.],\n",
              "       [0., 1., 0., ..., 0., 1., 0.],\n",
              "       ...,\n",
              "       [0., 1., 0., ..., 0., 0., 1.],\n",
              "       [1., 0., 0., ..., 0., 1., 0.],\n",
              "       [0., 1., 0., ..., 0., 1., 0.]])"
            ]
          },
          "metadata": {
            "tags": []
          },
          "execution_count": 19
        }
      ]
    },
    {
      "cell_type": "code",
      "metadata": {
        "id": "kM3YeEHCkwYe"
      },
      "source": [
        "# 연속형 scaling\n",
        "from sklearn.preprocessing import StandardScaler"
      ],
      "execution_count": null,
      "outputs": []
    },
    {
      "cell_type": "code",
      "metadata": {
        "id": "wGfmoCiWk3IZ"
      },
      "source": [
        "scaler = StandardScaler()\n",
        "scaled = scaler.fit_transform(x_train[con_col])"
      ],
      "execution_count": null,
      "outputs": []
    },
    {
      "cell_type": "code",
      "metadata": {
        "id": "W3kAXpNklEVl"
      },
      "source": [
        "x_train = np.concatenate( [one_hot_encoded.toarray(), scaled], axis=1 )"
      ],
      "execution_count": null,
      "outputs": []
    },
    {
      "cell_type": "code",
      "metadata": {
        "colab": {
          "base_uri": "https://localhost:8080/"
        },
        "id": "IeVHdnqOlXfj",
        "outputId": "16d9f45f-1efd-4d25-99e3-93c35379f866"
      },
      "source": [
        "x_train.shape"
      ],
      "execution_count": null,
      "outputs": [
        {
          "output_type": "execute_result",
          "data": {
            "text/plain": [
              "(242, 31)"
            ]
          },
          "metadata": {
            "tags": []
          },
          "execution_count": 23
        }
      ]
    },
    {
      "cell_type": "code",
      "metadata": {
        "colab": {
          "base_uri": "https://localhost:8080/",
          "height": 135
        },
        "id": "j1mdaLoIraoo",
        "outputId": "208f8e16-c149-49e5-d022-1a2cdfa1e586"
      },
      "source": [
        "cp.      cp_0 cp_1 cp_2 cp_3\n",
        "0,         1.    0.  0.  0\n",
        "1,         0.    1   0   0\n",
        "2,         0.    0.  1.  0\n",
        "3,         0     0.  0.  1"
      ],
      "execution_count": null,
      "outputs": [
        {
          "output_type": "error",
          "ename": "SyntaxError",
          "evalue": "ignored",
          "traceback": [
            "\u001b[0;36m  File \u001b[0;32m\"<ipython-input-24-57c4eb868509>\"\u001b[0;36m, line \u001b[0;32m1\u001b[0m\n\u001b[0;31m    cp.      cp_0 cp_1 cp_2 cp_3\u001b[0m\n\u001b[0m                     ^\u001b[0m\n\u001b[0;31mSyntaxError\u001b[0m\u001b[0;31m:\u001b[0m invalid syntax\n"
          ]
        }
      ]
    },
    {
      "cell_type": "code",
      "metadata": {
        "id": "p49hAOARrGO2"
      },
      "source": [
        "# val 데이이터에도 적용\n",
        "one_hot_encoded_val = one_hot.transform(x_val[cat_col])\n",
        "scaled_val = scaler.transform(x_val[con_col])\n",
        "x_val = np.concatenate([one_hot_encoded_val.toarray(), scaled_val], axis=1)"
      ],
      "execution_count": null,
      "outputs": []
    },
    {
      "cell_type": "code",
      "metadata": {
        "id": "lQe1OUAms36Q"
      },
      "source": [
        "# model\n",
        "model = keras.Sequential()"
      ],
      "execution_count": null,
      "outputs": []
    },
    {
      "cell_type": "code",
      "metadata": {
        "colab": {
          "base_uri": "https://localhost:8080/"
        },
        "id": "hOEzk754t3k6",
        "outputId": "ef12d233-9350-4d80-d664-15387d8dcfe5"
      },
      "source": [
        "x_train.shape"
      ],
      "execution_count": null,
      "outputs": [
        {
          "output_type": "execute_result",
          "data": {
            "text/plain": [
              "(242, 31)"
            ]
          },
          "metadata": {
            "tags": []
          },
          "execution_count": 27
        }
      ]
    },
    {
      "cell_type": "code",
      "metadata": {
        "id": "Hc1lec3Us73K"
      },
      "source": [
        "model.add(keras.layers.Dense(32, input_shape=[x_train.shape[1],], activation=\"relu\"))\n",
        "model.add(keras.layers.Dense(16, activation=\"relu\"))\n",
        "model.add(keras.layers.Dense(1, activation=\"sigmoid\")) # sigmoid는 이진분류 task의 output layer에만 쓰임"
      ],
      "execution_count": null,
      "outputs": []
    },
    {
      "cell_type": "code",
      "metadata": {
        "id": "13HZbwT_usK9"
      },
      "source": [
        "model.compile(\n",
        "    optimizer = \"adam\",\n",
        "    loss = \"binary_crossentropy\",\n",
        "    metrics = [\"accuracy\"]\n",
        ")"
      ],
      "execution_count": null,
      "outputs": []
    },
    {
      "cell_type": "code",
      "metadata": {
        "id": "oXZ0xmO3vcxM"
      },
      "source": [
        "batch_size = 32\n",
        "epoch = 30"
      ],
      "execution_count": null,
      "outputs": []
    },
    {
      "cell_type": "code",
      "metadata": {
        "colab": {
          "base_uri": "https://localhost:8080/"
        },
        "id": "sh8Fb_-4vjDR",
        "outputId": "2df851a5-e026-4648-ddbf-79d29f576706"
      },
      "source": [
        "model.summary()"
      ],
      "execution_count": null,
      "outputs": [
        {
          "output_type": "stream",
          "text": [
            "Model: \"sequential\"\n",
            "_________________________________________________________________\n",
            "Layer (type)                 Output Shape              Param #   \n",
            "=================================================================\n",
            "dense (Dense)                (None, 32)                1024      \n",
            "_________________________________________________________________\n",
            "dense_1 (Dense)              (None, 16)                528       \n",
            "_________________________________________________________________\n",
            "dense_2 (Dense)              (None, 1)                 17        \n",
            "=================================================================\n",
            "Total params: 1,569\n",
            "Trainable params: 1,569\n",
            "Non-trainable params: 0\n",
            "_________________________________________________________________\n"
          ],
          "name": "stdout"
        }
      ]
    },
    {
      "cell_type": "code",
      "metadata": {
        "colab": {
          "base_uri": "https://localhost:8080/",
          "height": 206
        },
        "id": "cbU-GjTTxrjZ",
        "outputId": "67b9fb5d-e564-4e18-e3ac-9b976a3db45f"
      },
      "source": [
        "df.head()"
      ],
      "execution_count": null,
      "outputs": [
        {
          "output_type": "execute_result",
          "data": {
            "text/html": [
              "<div>\n",
              "<style scoped>\n",
              "    .dataframe tbody tr th:only-of-type {\n",
              "        vertical-align: middle;\n",
              "    }\n",
              "\n",
              "    .dataframe tbody tr th {\n",
              "        vertical-align: top;\n",
              "    }\n",
              "\n",
              "    .dataframe thead th {\n",
              "        text-align: right;\n",
              "    }\n",
              "</style>\n",
              "<table border=\"1\" class=\"dataframe\">\n",
              "  <thead>\n",
              "    <tr style=\"text-align: right;\">\n",
              "      <th></th>\n",
              "      <th>age</th>\n",
              "      <th>sex</th>\n",
              "      <th>cp</th>\n",
              "      <th>trestbps</th>\n",
              "      <th>chol</th>\n",
              "      <th>fbs</th>\n",
              "      <th>restecg</th>\n",
              "      <th>thalach</th>\n",
              "      <th>exang</th>\n",
              "      <th>oldpeak</th>\n",
              "      <th>slope</th>\n",
              "      <th>ca</th>\n",
              "      <th>thal</th>\n",
              "      <th>target</th>\n",
              "    </tr>\n",
              "  </thead>\n",
              "  <tbody>\n",
              "    <tr>\n",
              "      <th>0</th>\n",
              "      <td>63</td>\n",
              "      <td>1</td>\n",
              "      <td>1</td>\n",
              "      <td>145</td>\n",
              "      <td>233</td>\n",
              "      <td>1</td>\n",
              "      <td>2</td>\n",
              "      <td>150</td>\n",
              "      <td>0</td>\n",
              "      <td>2.3</td>\n",
              "      <td>3</td>\n",
              "      <td>0</td>\n",
              "      <td>fixed</td>\n",
              "      <td>0</td>\n",
              "    </tr>\n",
              "    <tr>\n",
              "      <th>1</th>\n",
              "      <td>67</td>\n",
              "      <td>1</td>\n",
              "      <td>4</td>\n",
              "      <td>160</td>\n",
              "      <td>286</td>\n",
              "      <td>0</td>\n",
              "      <td>2</td>\n",
              "      <td>108</td>\n",
              "      <td>1</td>\n",
              "      <td>1.5</td>\n",
              "      <td>2</td>\n",
              "      <td>3</td>\n",
              "      <td>normal</td>\n",
              "      <td>1</td>\n",
              "    </tr>\n",
              "    <tr>\n",
              "      <th>2</th>\n",
              "      <td>67</td>\n",
              "      <td>1</td>\n",
              "      <td>4</td>\n",
              "      <td>120</td>\n",
              "      <td>229</td>\n",
              "      <td>0</td>\n",
              "      <td>2</td>\n",
              "      <td>129</td>\n",
              "      <td>1</td>\n",
              "      <td>2.6</td>\n",
              "      <td>2</td>\n",
              "      <td>2</td>\n",
              "      <td>reversible</td>\n",
              "      <td>0</td>\n",
              "    </tr>\n",
              "    <tr>\n",
              "      <th>3</th>\n",
              "      <td>37</td>\n",
              "      <td>1</td>\n",
              "      <td>3</td>\n",
              "      <td>130</td>\n",
              "      <td>250</td>\n",
              "      <td>0</td>\n",
              "      <td>0</td>\n",
              "      <td>187</td>\n",
              "      <td>0</td>\n",
              "      <td>3.5</td>\n",
              "      <td>3</td>\n",
              "      <td>0</td>\n",
              "      <td>normal</td>\n",
              "      <td>0</td>\n",
              "    </tr>\n",
              "    <tr>\n",
              "      <th>4</th>\n",
              "      <td>41</td>\n",
              "      <td>0</td>\n",
              "      <td>2</td>\n",
              "      <td>130</td>\n",
              "      <td>204</td>\n",
              "      <td>0</td>\n",
              "      <td>2</td>\n",
              "      <td>172</td>\n",
              "      <td>0</td>\n",
              "      <td>1.4</td>\n",
              "      <td>1</td>\n",
              "      <td>0</td>\n",
              "      <td>normal</td>\n",
              "      <td>0</td>\n",
              "    </tr>\n",
              "  </tbody>\n",
              "</table>\n",
              "</div>"
            ],
            "text/plain": [
              "   age  sex  cp  trestbps  chol  ...  oldpeak  slope  ca        thal  target\n",
              "0   63    1   1       145   233  ...      2.3      3   0       fixed       0\n",
              "1   67    1   4       160   286  ...      1.5      2   3      normal       1\n",
              "2   67    1   4       120   229  ...      2.6      2   2  reversible       0\n",
              "3   37    1   3       130   250  ...      3.5      3   0      normal       0\n",
              "4   41    0   2       130   204  ...      1.4      1   0      normal       0\n",
              "\n",
              "[5 rows x 14 columns]"
            ]
          },
          "metadata": {
            "tags": []
          },
          "execution_count": 34
        }
      ]
    },
    {
      "cell_type": "code",
      "metadata": {
        "colab": {
          "base_uri": "https://localhost:8080/"
        },
        "id": "qZo7xmmNv4XT",
        "outputId": "296ddd99-6e05-4a49-e5c6-d527dfe409bf"
      },
      "source": [
        "model.fit(x_train, y_train, epochs=epoch, batch_size=batch_size, validation_data=(x_val, y_val))"
      ],
      "execution_count": null,
      "outputs": [
        {
          "output_type": "stream",
          "text": [
            "Epoch 1/30\n",
            "8/8 [==============================] - 1s 25ms/step - loss: 0.7802 - accuracy: 0.3802 - val_loss: 0.6915 - val_accuracy: 0.5738\n",
            "Epoch 2/30\n",
            "8/8 [==============================] - 0s 4ms/step - loss: 0.6721 - accuracy: 0.5785 - val_loss: 0.6219 - val_accuracy: 0.7049\n",
            "Epoch 3/30\n",
            "8/8 [==============================] - 0s 5ms/step - loss: 0.6021 - accuracy: 0.7066 - val_loss: 0.5769 - val_accuracy: 0.6885\n",
            "Epoch 4/30\n",
            "8/8 [==============================] - 0s 5ms/step - loss: 0.5553 - accuracy: 0.7190 - val_loss: 0.5455 - val_accuracy: 0.7213\n",
            "Epoch 5/30\n",
            "8/8 [==============================] - 0s 5ms/step - loss: 0.5200 - accuracy: 0.7397 - val_loss: 0.5206 - val_accuracy: 0.7213\n",
            "Epoch 6/30\n",
            "8/8 [==============================] - 0s 4ms/step - loss: 0.4870 - accuracy: 0.7521 - val_loss: 0.5007 - val_accuracy: 0.7049\n",
            "Epoch 7/30\n",
            "8/8 [==============================] - 0s 5ms/step - loss: 0.4596 - accuracy: 0.7851 - val_loss: 0.4814 - val_accuracy: 0.7213\n",
            "Epoch 8/30\n",
            "8/8 [==============================] - 0s 5ms/step - loss: 0.4323 - accuracy: 0.7975 - val_loss: 0.4655 - val_accuracy: 0.7541\n",
            "Epoch 9/30\n",
            "8/8 [==============================] - 0s 5ms/step - loss: 0.4096 - accuracy: 0.8058 - val_loss: 0.4512 - val_accuracy: 0.7377\n",
            "Epoch 10/30\n",
            "8/8 [==============================] - 0s 4ms/step - loss: 0.3903 - accuracy: 0.8347 - val_loss: 0.4380 - val_accuracy: 0.8197\n",
            "Epoch 11/30\n",
            "8/8 [==============================] - 0s 5ms/step - loss: 0.3709 - accuracy: 0.8430 - val_loss: 0.4276 - val_accuracy: 0.8197\n",
            "Epoch 12/30\n",
            "8/8 [==============================] - 0s 6ms/step - loss: 0.3569 - accuracy: 0.8512 - val_loss: 0.4196 - val_accuracy: 0.8361\n",
            "Epoch 13/30\n",
            "8/8 [==============================] - 0s 6ms/step - loss: 0.3426 - accuracy: 0.8595 - val_loss: 0.4119 - val_accuracy: 0.8361\n",
            "Epoch 14/30\n",
            "8/8 [==============================] - 0s 6ms/step - loss: 0.3306 - accuracy: 0.8678 - val_loss: 0.4052 - val_accuracy: 0.8361\n",
            "Epoch 15/30\n",
            "8/8 [==============================] - 0s 8ms/step - loss: 0.3203 - accuracy: 0.8719 - val_loss: 0.3977 - val_accuracy: 0.8197\n",
            "Epoch 16/30\n",
            "8/8 [==============================] - 0s 5ms/step - loss: 0.3123 - accuracy: 0.8760 - val_loss: 0.3910 - val_accuracy: 0.8033\n",
            "Epoch 17/30\n",
            "8/8 [==============================] - 0s 5ms/step - loss: 0.3044 - accuracy: 0.8760 - val_loss: 0.3863 - val_accuracy: 0.8033\n",
            "Epoch 18/30\n",
            "8/8 [==============================] - 0s 4ms/step - loss: 0.2970 - accuracy: 0.8719 - val_loss: 0.3832 - val_accuracy: 0.8033\n",
            "Epoch 19/30\n",
            "8/8 [==============================] - 0s 7ms/step - loss: 0.2921 - accuracy: 0.8719 - val_loss: 0.3783 - val_accuracy: 0.8033\n",
            "Epoch 20/30\n",
            "8/8 [==============================] - 0s 4ms/step - loss: 0.2853 - accuracy: 0.8760 - val_loss: 0.3748 - val_accuracy: 0.8033\n",
            "Epoch 21/30\n",
            "8/8 [==============================] - 0s 5ms/step - loss: 0.2796 - accuracy: 0.8719 - val_loss: 0.3726 - val_accuracy: 0.8033\n",
            "Epoch 22/30\n",
            "8/8 [==============================] - 0s 5ms/step - loss: 0.2744 - accuracy: 0.8719 - val_loss: 0.3698 - val_accuracy: 0.8033\n",
            "Epoch 23/30\n",
            "8/8 [==============================] - 0s 4ms/step - loss: 0.2696 - accuracy: 0.8760 - val_loss: 0.3678 - val_accuracy: 0.8033\n",
            "Epoch 24/30\n",
            "8/8 [==============================] - 0s 4ms/step - loss: 0.2680 - accuracy: 0.8802 - val_loss: 0.3671 - val_accuracy: 0.8033\n",
            "Epoch 25/30\n",
            "8/8 [==============================] - 0s 5ms/step - loss: 0.2622 - accuracy: 0.8802 - val_loss: 0.3639 - val_accuracy: 0.8033\n",
            "Epoch 26/30\n",
            "8/8 [==============================] - 0s 4ms/step - loss: 0.2563 - accuracy: 0.8843 - val_loss: 0.3638 - val_accuracy: 0.8033\n",
            "Epoch 27/30\n",
            "8/8 [==============================] - 0s 4ms/step - loss: 0.2524 - accuracy: 0.8884 - val_loss: 0.3620 - val_accuracy: 0.8033\n",
            "Epoch 28/30\n",
            "8/8 [==============================] - 0s 6ms/step - loss: 0.2490 - accuracy: 0.8884 - val_loss: 0.3622 - val_accuracy: 0.8033\n",
            "Epoch 29/30\n",
            "8/8 [==============================] - 0s 6ms/step - loss: 0.2441 - accuracy: 0.8926 - val_loss: 0.3622 - val_accuracy: 0.8033\n",
            "Epoch 30/30\n",
            "8/8 [==============================] - 0s 5ms/step - loss: 0.2409 - accuracy: 0.8967 - val_loss: 0.3625 - val_accuracy: 0.8033\n"
          ],
          "name": "stdout"
        },
        {
          "output_type": "execute_result",
          "data": {
            "text/plain": [
              "<tensorflow.python.keras.callbacks.History at 0x7fabd52fc110>"
            ]
          },
          "metadata": {
            "tags": []
          },
          "execution_count": 32
        }
      ]
    },
    {
      "cell_type": "code",
      "metadata": {
        "id": "LniooIOFwheg"
      },
      "source": [
        "# test\n",
        "sample = {\n",
        "    \"age\": [60],\n",
        "    \"sex\": [1],\n",
        "    \"cp\": [1],\n",
        "    \"trestbps\": [145],\n",
        "    \"chol\": [233],\n",
        "    \"fbs\": [1],\n",
        "    \"restecg\": [2],\n",
        "    \"thalach\": [150],\n",
        "    \"exang\": [0],\n",
        "    \"oldpeak\": [2.3],\n",
        "    \"slope\": [3],\n",
        "    \"ca\": [0],\n",
        "    \"thal\": [\"fixed\"],\n",
        "}"
      ],
      "execution_count": null,
      "outputs": []
    },
    {
      "cell_type": "code",
      "metadata": {
        "id": "FMeHDztE2hgo"
      },
      "source": [
        "sample_df = pd.DataFrame(sample)"
      ],
      "execution_count": null,
      "outputs": []
    },
    {
      "cell_type": "code",
      "metadata": {
        "colab": {
          "base_uri": "https://localhost:8080/",
          "height": 81
        },
        "id": "9Qtv4ryy2oiu",
        "outputId": "880ea770-a2ec-4b16-85d0-6aff653302ea"
      },
      "source": [
        "sample_df"
      ],
      "execution_count": null,
      "outputs": [
        {
          "output_type": "execute_result",
          "data": {
            "text/html": [
              "<div>\n",
              "<style scoped>\n",
              "    .dataframe tbody tr th:only-of-type {\n",
              "        vertical-align: middle;\n",
              "    }\n",
              "\n",
              "    .dataframe tbody tr th {\n",
              "        vertical-align: top;\n",
              "    }\n",
              "\n",
              "    .dataframe thead th {\n",
              "        text-align: right;\n",
              "    }\n",
              "</style>\n",
              "<table border=\"1\" class=\"dataframe\">\n",
              "  <thead>\n",
              "    <tr style=\"text-align: right;\">\n",
              "      <th></th>\n",
              "      <th>age</th>\n",
              "      <th>sex</th>\n",
              "      <th>cp</th>\n",
              "      <th>trestbps</th>\n",
              "      <th>chol</th>\n",
              "      <th>fbs</th>\n",
              "      <th>restecg</th>\n",
              "      <th>thalach</th>\n",
              "      <th>exang</th>\n",
              "      <th>oldpeak</th>\n",
              "      <th>slope</th>\n",
              "      <th>ca</th>\n",
              "      <th>thal</th>\n",
              "    </tr>\n",
              "  </thead>\n",
              "  <tbody>\n",
              "    <tr>\n",
              "      <th>0</th>\n",
              "      <td>60</td>\n",
              "      <td>1</td>\n",
              "      <td>1</td>\n",
              "      <td>145</td>\n",
              "      <td>233</td>\n",
              "      <td>1</td>\n",
              "      <td>2</td>\n",
              "      <td>150</td>\n",
              "      <td>0</td>\n",
              "      <td>2.3</td>\n",
              "      <td>3</td>\n",
              "      <td>0</td>\n",
              "      <td>fixed</td>\n",
              "    </tr>\n",
              "  </tbody>\n",
              "</table>\n",
              "</div>"
            ],
            "text/plain": [
              "   age  sex  cp  trestbps  chol  fbs  ...  thalach  exang  oldpeak  slope  ca   thal\n",
              "0   60    1   1       145   233    1  ...      150      0      2.3      3   0  fixed\n",
              "\n",
              "[1 rows x 13 columns]"
            ]
          },
          "metadata": {
            "tags": []
          },
          "execution_count": 37
        }
      ]
    },
    {
      "cell_type": "code",
      "metadata": {
        "colab": {
          "base_uri": "https://localhost:8080/"
        },
        "id": "xm_2-wKi2q1B",
        "outputId": "ce41794b-62b2-4a5f-ceb7-37edf8766331"
      },
      "source": [
        "sample_one_hot = one_hot.transform(sample_df[cat_col])\n",
        "sample_scaled = scaler.transform(sample_df[con_col])\n",
        "sample = np.concatenate([sample_one_hot.toarray(), sample_scaled], axis=1)\n",
        "sample.shape"
      ],
      "execution_count": null,
      "outputs": [
        {
          "output_type": "execute_result",
          "data": {
            "text/plain": [
              "(1, 31)"
            ]
          },
          "metadata": {
            "tags": []
          },
          "execution_count": 38
        }
      ]
    },
    {
      "cell_type": "code",
      "metadata": {
        "id": "NV3tagiz3bw_"
      },
      "source": [
        "prediction = model.predict(sample)"
      ],
      "execution_count": null,
      "outputs": []
    },
    {
      "cell_type": "code",
      "metadata": {
        "colab": {
          "base_uri": "https://localhost:8080/"
        },
        "id": "RBfJJEBO3ij2",
        "outputId": "5fd5f32f-7760-4aca-8a09-3f06c3a9e82b"
      },
      "source": [
        "prediction"
      ],
      "execution_count": null,
      "outputs": [
        {
          "output_type": "execute_result",
          "data": {
            "text/plain": [
              "array([[0.21310705]], dtype=float32)"
            ]
          },
          "metadata": {
            "tags": []
          },
          "execution_count": 40
        }
      ]
    },
    {
      "cell_type": "code",
      "metadata": {
        "colab": {
          "base_uri": "https://localhost:8080/"
        },
        "id": "dYASDZV83krq",
        "outputId": "22bcca88-45d4-48ba-aa2b-49673fec798a"
      },
      "source": [
        "prediction[0][0]"
      ],
      "execution_count": null,
      "outputs": [
        {
          "output_type": "execute_result",
          "data": {
            "text/plain": [
              "0.21310705"
            ]
          },
          "metadata": {
            "tags": []
          },
          "execution_count": 43
        }
      ]
    },
    {
      "cell_type": "code",
      "metadata": {
        "colab": {
          "base_uri": "https://localhost:8080/"
        },
        "id": "nmQy1YF_3rLh",
        "outputId": "bc6f1d5d-dda3-4a10-9065-9b7e7c819003"
      },
      "source": [
        "print(f\"심장병이 있을 확률 : {prediction[0][0] * 100:.2f}%\")"
      ],
      "execution_count": null,
      "outputs": [
        {
          "output_type": "stream",
          "text": [
            "심장병이 있을 확률 : 21.31%\n"
          ],
          "name": "stdout"
        }
      ]
    },
    {
      "cell_type": "code",
      "metadata": {
        "id": "_HFaDvHS4e50"
      },
      "source": [
        ""
      ],
      "execution_count": null,
      "outputs": []
    }
  ]
}