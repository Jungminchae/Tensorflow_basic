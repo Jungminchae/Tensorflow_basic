{
  "nbformat": 4,
  "nbformat_minor": 0,
  "metadata": {
    "colab": {
      "name": "tf_data_실습.ipynb",
      "provenance": []
    },
    "kernelspec": {
      "name": "python3",
      "display_name": "Python 3"
    },
    "language_info": {
      "name": "python"
    }
  },
  "cells": [
    {
      "cell_type": "code",
      "metadata": {
        "id": "99Yhbgv7TKOq"
      },
      "source": [
        "import tensorflow as tf\n",
        "from tensorflow import keras"
      ],
      "execution_count": null,
      "outputs": []
    },
    {
      "cell_type": "code",
      "metadata": {
        "colab": {
          "base_uri": "https://localhost:8080/"
        },
        "id": "Naa5w-l_TXdZ",
        "outputId": "23e7f1ad-8d4c-4634-e1de-004ffd1fe265"
      },
      "source": [
        "(x_train, y_train), (x_val, y_val) = keras.datasets.mnist.load_data()"
      ],
      "execution_count": null,
      "outputs": [
        {
          "output_type": "stream",
          "text": [
            "Downloading data from https://storage.googleapis.com/tensorflow/tf-keras-datasets/mnist.npz\n",
            "11493376/11490434 [==============================] - 0s 0us/step\n",
            "11501568/11490434 [==============================] - 0s 0us/step\n"
          ],
          "name": "stdout"
        }
      ]
    },
    {
      "cell_type": "code",
      "metadata": {
        "id": "Uq44gKkvTpTH"
      },
      "source": [
        "# shape 변환\n",
        "x_train = x_train[:,:,:,tf.newaxis]\n",
        "x_val = x_val[:,:,:, tf.newaxis]"
      ],
      "execution_count": null,
      "outputs": []
    },
    {
      "cell_type": "code",
      "metadata": {
        "colab": {
          "base_uri": "https://localhost:8080/"
        },
        "id": "Y989D0sPT8HI",
        "outputId": "82cfe76d-2246-4f22-cf3d-440488379cd7"
      },
      "source": [
        "x_train.shape, x_val.shape"
      ],
      "execution_count": null,
      "outputs": [
        {
          "output_type": "execute_result",
          "data": {
            "text/plain": [
              "((60000, 28, 28, 1), (10000, 28, 28, 1))"
            ]
          },
          "metadata": {},
          "execution_count": 4
        }
      ]
    },
    {
      "cell_type": "code",
      "metadata": {
        "id": "-WQhpE6hT-xQ"
      },
      "source": [
        "# 자료형 변환 # tf.cast 자료형 변환\n",
        "x_train = tf.cast(x_train, tf.float32)\n",
        "y_train = tf.cast(y_train, tf.float32)\n",
        "\n",
        "x_val = tf.cast(x_val, tf.float32)\n",
        "y_val = tf.cast(y_val, tf.float32)"
      ],
      "execution_count": null,
      "outputs": []
    },
    {
      "cell_type": "code",
      "metadata": {
        "id": "Bt4PdF88UFHS"
      },
      "source": [
        "# y값 one-hot encoding\n",
        "y_train = keras.utils.to_categorical(y_train)\n",
        "y_val = keras.utils.to_categorical(y_val)"
      ],
      "execution_count": null,
      "outputs": []
    },
    {
      "cell_type": "code",
      "metadata": {
        "id": "FKLo5-0LU--O"
      },
      "source": [
        "# tf data 만들기\n",
        "train_dataset = tf.data.Dataset.from_tensor_slices((x_train, y_train))"
      ],
      "execution_count": null,
      "outputs": []
    },
    {
      "cell_type": "code",
      "metadata": {
        "colab": {
          "base_uri": "https://localhost:8080/"
        },
        "id": "droe0WzhVSDS",
        "outputId": "095601bc-ed6c-4677-9591-cb17c487a0c3"
      },
      "source": [
        "type(train_dataset)"
      ],
      "execution_count": null,
      "outputs": [
        {
          "output_type": "execute_result",
          "data": {
            "text/plain": [
              "tensorflow.python.data.ops.dataset_ops.TensorSliceDataset"
            ]
          },
          "metadata": {},
          "execution_count": 9
        }
      ]
    },
    {
      "cell_type": "code",
      "metadata": {
        "id": "rPk9ujyjVWyi"
      },
      "source": [
        "# map \n",
        "# x와 y가 세트로 묶여있기 때문에 y를 처리하지 않더라도 같이 넣어줘야 합니다.\n",
        "def norm(x_data, y_data):\n",
        "    x_data = x_data / 255.0\n",
        "    return x_data, y_data"
      ],
      "execution_count": null,
      "outputs": []
    },
    {
      "cell_type": "code",
      "metadata": {
        "id": "l2emZ_jXVwKm"
      },
      "source": [
        "# map 적용\n",
        "train_dataset = train_dataset.map(norm)"
      ],
      "execution_count": null,
      "outputs": []
    },
    {
      "cell_type": "code",
      "metadata": {
        "id": "7l71HEf-WO8-"
      },
      "source": [
        "# 데이터셋 섞기\n",
        "buffer_size = len(x_train) # 얼만큼 섞을 것인가, 일반적으로 데이터 길이만큼\n",
        "train_dataset = train_dataset.shuffle(buffer_size)"
      ],
      "execution_count": null,
      "outputs": []
    },
    {
      "cell_type": "code",
      "metadata": {
        "id": "cKm2shCIWtIM"
      },
      "source": [
        "# batch size만큼 나누기\n",
        "batch_size = 64\n",
        "train_dataset = train_dataset.batch(batch_size) "
      ],
      "execution_count": null,
      "outputs": []
    },
    {
      "cell_type": "code",
      "metadata": {
        "id": "hPRswFwDXfwL"
      },
      "source": [
        "# repeat -> 반복, 한번더\n",
        "train_dataset = train_dataset.repeat()"
      ],
      "execution_count": null,
      "outputs": []
    },
    {
      "cell_type": "code",
      "metadata": {
        "id": "1hn-ouuNYAqn"
      },
      "source": [
        "# 데이터 미리 준비시키기\n",
        "train_dataset = train_dataset.prefetch(tf.data.experimental.AUTOTUNE)"
      ],
      "execution_count": null,
      "outputs": []
    },
    {
      "cell_type": "code",
      "metadata": {
        "id": "Le9QBhI_Ycnj"
      },
      "source": [
        "for x,y in train_dataset.take(1):\n",
        "    print(x)"
      ],
      "execution_count": null,
      "outputs": []
    },
    {
      "cell_type": "code",
      "metadata": {
        "id": "Aq5c-D2wYq-u"
      },
      "source": [
        "# val set 만들기\n",
        "val_dataset = tf.data.Dataset.from_tensor_slices((x_val,y_val))\n",
        "val_dataset = val_dataset.shuffle(buffer_size)\n",
        "val_dataset = val_dataset.batch(batch_size)"
      ],
      "execution_count": null,
      "outputs": []
    },
    {
      "cell_type": "code",
      "metadata": {
        "id": "OETIi2rvZh9y"
      },
      "source": [
        "# model\n",
        "model = keras.Sequential([\n",
        "    keras.layers.Flatten(),\n",
        "    keras.layers.Dense(64, activation=\"relu\"),\n",
        "    keras.layers.Dense(32, activation=\"relu\"),\n",
        "    keras.layers.Dense(10, activation=\"softmax\")\n",
        "])"
      ],
      "execution_count": null,
      "outputs": []
    },
    {
      "cell_type": "code",
      "metadata": {
        "id": "EicAv2GpZ7bX"
      },
      "source": [
        "# compile\n",
        "model.compile(\n",
        "    optimizer=\"adam\",\n",
        "    loss = \"categorical_crossentropy\",\n",
        "    metrics = [\"accuracy\"]\n",
        ")"
      ],
      "execution_count": null,
      "outputs": []
    },
    {
      "cell_type": "code",
      "metadata": {
        "colab": {
          "base_uri": "https://localhost:8080/"
        },
        "id": "4w7YNZklaUb5",
        "outputId": "3f83463d-6b23-4d9d-c5a8-97bd77c52d64"
      },
      "source": [
        "# model fit\n",
        "model.fit(\n",
        "    train_dataset, # train_dataset\n",
        "    epochs=10,\n",
        "    validation_data=val_dataset, # validation_dataset\n",
        "    steps_per_epoch= len(x_train) / batch_size   # steps_per_epoch\n",
        "    # batch_size 넣어주지 마세요, 배치단위로 알아서 들어갑니다\n",
        ")"
      ],
      "execution_count": null,
      "outputs": [
        {
          "output_type": "stream",
          "text": [
            "Epoch 1/10\n",
            "937/937 [==============================] - 7s 5ms/step - loss: 0.3388 - accuracy: 0.9046 - val_loss: 24.3856 - val_accuracy: 0.9488\n",
            "Epoch 2/10\n",
            "937/937 [==============================] - 5s 4ms/step - loss: 0.1558 - accuracy: 0.9549 - val_loss: 19.6112 - val_accuracy: 0.9611\n",
            "Epoch 3/10\n",
            "937/937 [==============================] - 5s 4ms/step - loss: 0.1159 - accuracy: 0.9658 - val_loss: 17.9280 - val_accuracy: 0.9641\n",
            "Epoch 4/10\n",
            "937/937 [==============================] - 5s 4ms/step - loss: 0.0939 - accuracy: 0.9718 - val_loss: 16.9240 - val_accuracy: 0.9679\n",
            "Epoch 5/10\n",
            "937/937 [==============================] - 4s 3ms/step - loss: 0.0805 - accuracy: 0.9754 - val_loss: 19.4028 - val_accuracy: 0.9636\n",
            "Epoch 6/10\n",
            "937/937 [==============================] - 5s 4ms/step - loss: 0.0663 - accuracy: 0.9791 - val_loss: 16.9975 - val_accuracy: 0.9702\n",
            "Epoch 7/10\n",
            "937/937 [==============================] - 4s 3ms/step - loss: 0.0569 - accuracy: 0.9820 - val_loss: 18.9348 - val_accuracy: 0.9705\n",
            "Epoch 8/10\n",
            "937/937 [==============================] - 5s 4ms/step - loss: 0.0499 - accuracy: 0.9840 - val_loss: 19.3261 - val_accuracy: 0.9705\n",
            "Epoch 9/10\n",
            "937/937 [==============================] - 5s 4ms/step - loss: 0.0439 - accuracy: 0.9859 - val_loss: 19.2811 - val_accuracy: 0.9713\n",
            "Epoch 10/10\n",
            "937/937 [==============================] - 5s 5ms/step - loss: 0.0379 - accuracy: 0.9881 - val_loss: 20.2971 - val_accuracy: 0.9707\n"
          ],
          "name": "stdout"
        },
        {
          "output_type": "execute_result",
          "data": {
            "text/plain": [
              "<keras.callbacks.History at 0x7f391d4a6210>"
            ]
          },
          "metadata": {},
          "execution_count": 23
        }
      ]
    },
    {
      "cell_type": "code",
      "metadata": {
        "id": "m2hi14Z-almO"
      },
      "source": [
        "import pandas as pd"
      ],
      "execution_count": null,
      "outputs": []
    },
    {
      "cell_type": "code",
      "metadata": {
        "colab": {
          "base_uri": "https://localhost:8080/",
          "height": 203
        },
        "id": "7KK6WhLfcR7F",
        "outputId": "8510b7a3-4e53-4421-e86d-a61af13a4815"
      },
      "source": [
        "df = pd.read_pickle(\"naver_stock.pkl\")\n",
        "df.head()"
      ],
      "execution_count": null,
      "outputs": [
        {
          "output_type": "execute_result",
          "data": {
            "text/html": [
              "<div>\n",
              "<style scoped>\n",
              "    .dataframe tbody tr th:only-of-type {\n",
              "        vertical-align: middle;\n",
              "    }\n",
              "\n",
              "    .dataframe tbody tr th {\n",
              "        vertical-align: top;\n",
              "    }\n",
              "\n",
              "    .dataframe thead th {\n",
              "        text-align: right;\n",
              "    }\n",
              "</style>\n",
              "<table border=\"1\" class=\"dataframe\">\n",
              "  <thead>\n",
              "    <tr style=\"text-align: right;\">\n",
              "      <th></th>\n",
              "      <th>날짜</th>\n",
              "      <th>종가</th>\n",
              "      <th>전일비</th>\n",
              "      <th>시가</th>\n",
              "      <th>고가</th>\n",
              "      <th>저가</th>\n",
              "      <th>거래량</th>\n",
              "    </tr>\n",
              "  </thead>\n",
              "  <tbody>\n",
              "    <tr>\n",
              "      <th>0</th>\n",
              "      <td>2021-08-19</td>\n",
              "      <td>424500.0</td>\n",
              "      <td>4500.0</td>\n",
              "      <td>431000.0</td>\n",
              "      <td>434000.0</td>\n",
              "      <td>424500.0</td>\n",
              "      <td>501090.0</td>\n",
              "    </tr>\n",
              "    <tr>\n",
              "      <th>1</th>\n",
              "      <td>2021-08-18</td>\n",
              "      <td>429000.0</td>\n",
              "      <td>500.0</td>\n",
              "      <td>429500.0</td>\n",
              "      <td>433500.0</td>\n",
              "      <td>421500.0</td>\n",
              "      <td>496576.0</td>\n",
              "    </tr>\n",
              "    <tr>\n",
              "      <th>2</th>\n",
              "      <td>2021-08-17</td>\n",
              "      <td>428500.0</td>\n",
              "      <td>8000.0</td>\n",
              "      <td>435500.0</td>\n",
              "      <td>437500.0</td>\n",
              "      <td>420000.0</td>\n",
              "      <td>763564.0</td>\n",
              "    </tr>\n",
              "    <tr>\n",
              "      <th>3</th>\n",
              "      <td>2021-08-13</td>\n",
              "      <td>436500.0</td>\n",
              "      <td>4000.0</td>\n",
              "      <td>445000.0</td>\n",
              "      <td>446000.0</td>\n",
              "      <td>433000.0</td>\n",
              "      <td>515855.0</td>\n",
              "    </tr>\n",
              "    <tr>\n",
              "      <th>4</th>\n",
              "      <td>2021-08-12</td>\n",
              "      <td>440500.0</td>\n",
              "      <td>4500.0</td>\n",
              "      <td>448000.0</td>\n",
              "      <td>448500.0</td>\n",
              "      <td>438000.0</td>\n",
              "      <td>671083.0</td>\n",
              "    </tr>\n",
              "  </tbody>\n",
              "</table>\n",
              "</div>"
            ],
            "text/plain": [
              "           날짜        종가     전일비        시가        고가        저가       거래량\n",
              "0  2021-08-19  424500.0  4500.0  431000.0  434000.0  424500.0  501090.0\n",
              "1  2021-08-18  429000.0   500.0  429500.0  433500.0  421500.0  496576.0\n",
              "2  2021-08-17  428500.0  8000.0  435500.0  437500.0  420000.0  763564.0\n",
              "3  2021-08-13  436500.0  4000.0  445000.0  446000.0  433000.0  515855.0\n",
              "4  2021-08-12  440500.0  4500.0  448000.0  448500.0  438000.0  671083.0"
            ]
          },
          "metadata": {},
          "execution_count": 25
        }
      ]
    },
    {
      "cell_type": "code",
      "metadata": {
        "id": "WhKpHw73cW5o"
      },
      "source": [
        "x_col = \"시가 고가 저가 거래량\".split(\" \")\n",
        "y_col = [\"종가\"]"
      ],
      "execution_count": null,
      "outputs": []
    },
    {
      "cell_type": "code",
      "metadata": {
        "id": "_clf1bwDcfIi"
      },
      "source": [
        "x = df[x_col]\n",
        "y = df[y_col]"
      ],
      "execution_count": null,
      "outputs": []
    },
    {
      "cell_type": "code",
      "metadata": {
        "id": "Z8CXk9ZlcjKj"
      },
      "source": [
        "dataset = tf.data.Dataset.from_tensor_slices((x,y))"
      ],
      "execution_count": null,
      "outputs": []
    },
    {
      "cell_type": "code",
      "metadata": {
        "id": "G2LZ_LyGcs_P"
      },
      "source": [
        "dataset = dataset.batch(32)"
      ],
      "execution_count": null,
      "outputs": []
    },
    {
      "cell_type": "code",
      "metadata": {
        "colab": {
          "base_uri": "https://localhost:8080/"
        },
        "id": "GUXTP_p4cv1w",
        "outputId": "93d81efb-68c4-47d9-9a8e-507c119c95f9"
      },
      "source": [
        "for x,y in dataset.take(1):\n",
        "    print(x)"
      ],
      "execution_count": null,
      "outputs": [
        {
          "output_type": "stream",
          "text": [
            "tf.Tensor(\n",
            "[[ 431000.  434000.  424500.  501090.]\n",
            " [ 429500.  433500.  421500.  496576.]\n",
            " [ 435500.  437500.  420000.  763564.]\n",
            " [ 445000.  446000.  433000.  515855.]\n",
            " [ 448000.  448500.  438000.  671083.]\n",
            " [ 445000.  449000.  442000.  446275.]\n",
            " [ 446000.  453500.  442500.  461940.]\n",
            " [ 438000.  449000.  435000.  528032.]\n",
            " [ 443000.  447500.  440500.  416829.]\n",
            " [ 442000.  451500.  438500.  744924.]\n",
            " [ 425000.  434500.  423000.  545873.]\n",
            " [ 439000.  439000.  422000.  830841.]\n",
            " [ 429000.  437000.  428500.  551937.]\n",
            " [ 438000.  440500.  433000.  628812.]\n",
            " [ 444000.  445000.  438500.  556532.]\n",
            " [ 446000.  447000.  440000.  913055.]\n",
            " [ 457500.  463000.  452000.  757638.]\n",
            " [ 460000.  465000.  447500.  855277.]\n",
            " [ 443500.  454500.  441000. 1094026.]\n",
            " [ 433000.  445000.  429000. 1035882.]\n",
            " [ 443000.  446000.  428000.  885519.]\n",
            " [ 438500.  441500.  431000.  789090.]\n",
            " [ 443000.  449500.  438500.  704307.]\n",
            " [ 448000.  461000.  443000. 1246425.]\n",
            " [ 446500.  452500.  439500.  950460.]\n",
            " [ 436000.  444500.  436000.  931990.]\n",
            " [ 421000.  442000.  419000. 1498546.]\n",
            " [ 418500.  421500.  413000.  475697.]\n",
            " [ 420000.  424000.  408000. 1090218.]\n",
            " [ 419000.  431500.  418500. 1142267.]\n",
            " [ 411000.  419000.  410500.  663260.]\n",
            " [ 411500.  412500.  408000.  342771.]], shape=(32, 4), dtype=float64)\n"
          ],
          "name": "stdout"
        }
      ]
    },
    {
      "cell_type": "code",
      "metadata": {
        "id": "we_H0s_vc3DY"
      },
      "source": [
        ""
      ],
      "execution_count": null,
      "outputs": []
    }
  ]
}